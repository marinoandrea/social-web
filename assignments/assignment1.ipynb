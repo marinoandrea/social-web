{
 "cells": [
  {
   "cell_type": "markdown",
   "metadata": {},
   "source": [
    "*****************************************************************\n",
    "#  The Social Web \n",
    "- Instructors: Jacco van Ossenbruggen.\n",
    "- TAs: Ayesha Noorain, Alex Boyko, Caio Silva, Elena Beretta, Mirthe Dankloff.\n",
    "- Exercises for Hands-on session 1\n",
    "*****************************************************************"
   ]
  },
  {
   "cell_type": "markdown",
   "metadata": {},
   "source": [
    "Prerequisites:\n",
    "- Python 3.8\n",
    "- Python packages: twitter, prettytable, matplotlib\n",
    "\n",
    "First you need to know how to retrieve some social web data. Exercises 1 and 2 will show you how to retrieve trends and search results from Twitter. \n",
    "\n",
    "But let's check first if we're running a sufficiently new version of Python:"
   ]
  },
  {
   "cell_type": "code",
   "execution_count": 2,
   "metadata": {},
   "outputs": [
    {
     "name": "stdout",
     "output_type": "stream",
     "text": [
      "This jupyter notebook is running on Python 3.10.6\n"
     ]
    }
   ],
   "source": [
    "import platform\n",
    "import sys\n",
    "print(\"This jupyter notebook is running on Python \" + platform.python_version())\n",
    "# It's good practice to assert packages requirements at the beginning of a script:\n",
    "assert sys.version_info >= (3, 6)"
   ]
  },
  {
   "cell_type": "markdown",
   "metadata": {},
   "source": [
    "Let's install now the required packages for this hands on session:"
   ]
  },
  {
   "cell_type": "code",
   "execution_count": 1,
   "metadata": {},
   "outputs": [
    {
     "name": "stdout",
     "output_type": "stream",
     "text": [
      "Requirement already satisfied: twitter in /home/andrea/.cache/pypoetry/virtualenvs/social-web-I-m465Pv-py3.10/lib/python3.10/site-packages (1.19.6)\n",
      "Requirement already satisfied: PrettyTable in /home/andrea/.cache/pypoetry/virtualenvs/social-web-I-m465Pv-py3.10/lib/python3.10/site-packages (3.5.0)\n",
      "Requirement already satisfied: matplotlib in /home/andrea/.cache/pypoetry/virtualenvs/social-web-I-m465Pv-py3.10/lib/python3.10/site-packages (3.6.2)\n",
      "Requirement already satisfied: certifi in /home/andrea/.cache/pypoetry/virtualenvs/social-web-I-m465Pv-py3.10/lib/python3.10/site-packages (from twitter) (2022.9.24)\n",
      "Requirement already satisfied: wcwidth in /home/andrea/.cache/pypoetry/virtualenvs/social-web-I-m465Pv-py3.10/lib/python3.10/site-packages (from PrettyTable) (0.2.5)\n",
      "Requirement already satisfied: contourpy>=1.0.1 in /home/andrea/.cache/pypoetry/virtualenvs/social-web-I-m465Pv-py3.10/lib/python3.10/site-packages (from matplotlib) (1.0.6)\n",
      "Requirement already satisfied: python-dateutil>=2.7 in /home/andrea/.cache/pypoetry/virtualenvs/social-web-I-m465Pv-py3.10/lib/python3.10/site-packages (from matplotlib) (2.8.2)\n",
      "Requirement already satisfied: kiwisolver>=1.0.1 in /home/andrea/.cache/pypoetry/virtualenvs/social-web-I-m465Pv-py3.10/lib/python3.10/site-packages (from matplotlib) (1.4.4)\n",
      "Requirement already satisfied: fonttools>=4.22.0 in /home/andrea/.cache/pypoetry/virtualenvs/social-web-I-m465Pv-py3.10/lib/python3.10/site-packages (from matplotlib) (4.38.0)\n",
      "Requirement already satisfied: pyparsing>=2.2.1 in /home/andrea/.cache/pypoetry/virtualenvs/social-web-I-m465Pv-py3.10/lib/python3.10/site-packages (from matplotlib) (3.0.9)\n",
      "Requirement already satisfied: numpy>=1.19 in /home/andrea/.cache/pypoetry/virtualenvs/social-web-I-m465Pv-py3.10/lib/python3.10/site-packages (from matplotlib) (1.23.4)\n",
      "Requirement already satisfied: pillow>=6.2.0 in /home/andrea/.cache/pypoetry/virtualenvs/social-web-I-m465Pv-py3.10/lib/python3.10/site-packages (from matplotlib) (9.3.0)\n",
      "Requirement already satisfied: packaging>=20.0 in /home/andrea/.cache/pypoetry/virtualenvs/social-web-I-m465Pv-py3.10/lib/python3.10/site-packages (from matplotlib) (21.3)\n",
      "Requirement already satisfied: cycler>=0.10 in /home/andrea/.cache/pypoetry/virtualenvs/social-web-I-m465Pv-py3.10/lib/python3.10/site-packages (from matplotlib) (0.11.0)\n",
      "Requirement already satisfied: six>=1.5 in /home/andrea/.cache/pypoetry/virtualenvs/social-web-I-m465Pv-py3.10/lib/python3.10/site-packages (from python-dateutil>=2.7->matplotlib) (1.16.0)\n",
      "\n",
      "\u001b[1m[\u001b[0m\u001b[34;49mnotice\u001b[0m\u001b[1;39;49m]\u001b[0m\u001b[39;49m A new release of pip available: \u001b[0m\u001b[31;49m22.2.2\u001b[0m\u001b[39;49m -> \u001b[0m\u001b[32;49m22.3.1\u001b[0m\n",
      "\u001b[1m[\u001b[0m\u001b[34;49mnotice\u001b[0m\u001b[1;39;49m]\u001b[0m\u001b[39;49m To update, run: \u001b[0m\u001b[32;49mpip install --upgrade pip\u001b[0m\n"
     ]
    }
   ],
   "source": [
    "# If you're using a virtualenv, make sure its activated before running \n",
    "# this cell!\n",
    "!pip install twitter PrettyTable matplotlib\n",
    "\n",
    "# NOTE: we encourage to follow our poetry virtual environment workflow and install dependencies\n",
    "# in advance with 'poetry install'"
   ]
  },
  {
   "cell_type": "markdown",
   "metadata": {},
   "source": [
    "## Part 1: Authorizing an application to access Twitter account data (from Example 1-1/9-1 in Mining the Social Web):\n",
    "\n",
    "1. Make sure to add your mobile phone number to your private twitter profile.\n",
    "2. Go to https://apps.twitter.com/ and click on \"create an app\". Twitter will prompt you to create a *developer account*.\n",
    "3. You'll receive an *account confirmation* email with a link. Follow it and create an app. \n",
    "4. Once the app is created, you'll see a \"Keys and Token\" item on the top left-hand side corner of the webpage. These values will be needed to fill in the next cell.\n",
    "5. Please delete all your keys before submission."
   ]
  },
  {
   "cell_type": "code",
   "execution_count": 13,
   "metadata": {},
   "outputs": [
    {
     "ename": "MissingCredentialsError",
     "evalue": "You must supply strings for token_secret and consumer_secret, not None.",
     "output_type": "error",
     "traceback": [
      "\u001b[0;31m---------------------------------------------------------------------------\u001b[0m",
      "\u001b[0;31mMissingCredentialsError\u001b[0m                   Traceback (most recent call last)",
      "Cell \u001b[0;32mIn [13], line 13\u001b[0m\n\u001b[1;32m     10\u001b[0m OAUTH_TOKEN \u001b[39m=\u001b[39m os\u001b[39m.\u001b[39mgetenv(\u001b[39m\"\u001b[39m\u001b[39mTWITTER_OAUTH_TOKEN\u001b[39m\u001b[39m\"\u001b[39m)\n\u001b[1;32m     11\u001b[0m OAUTH_TOKEN_SECRET \u001b[39m=\u001b[39m os\u001b[39m.\u001b[39mgetenv(\u001b[39m\"\u001b[39m\u001b[39mTWITTER_OAUTH_TOKEN_SECRET\u001b[39m\u001b[39m\"\u001b[39m)\n\u001b[0;32m---> 13\u001b[0m auth \u001b[39m=\u001b[39m twitter\u001b[39m.\u001b[39;49moauth\u001b[39m.\u001b[39;49mOAuth(OAUTH_TOKEN, OAUTH_TOKEN_SECRET,CONSUMER_KEY, CONSUMER_SECRET)\n\u001b[1;32m     14\u001b[0m twitter_api \u001b[39m=\u001b[39m twitter\u001b[39m.\u001b[39mTwitter(auth\u001b[39m=\u001b[39mauth)\n\u001b[1;32m     15\u001b[0m \u001b[39mprint\u001b[39m(twitter_api) \n",
      "File \u001b[0;32m~/.cache/pypoetry/virtualenvs/social-web-I-m465Pv-py3.10/lib/python3.10/site-packages/twitter/oauth.py:96\u001b[0m, in \u001b[0;36mOAuth.__init__\u001b[0;34m(self, token, token_secret, consumer_key, consumer_secret)\u001b[0m\n\u001b[1;32m     93\u001b[0m \u001b[39mself\u001b[39m\u001b[39m.\u001b[39mconsumer_secret \u001b[39m=\u001b[39m consumer_secret\n\u001b[1;32m     95\u001b[0m \u001b[39mif\u001b[39;00m token_secret \u001b[39mis\u001b[39;00m \u001b[39mNone\u001b[39;00m \u001b[39mor\u001b[39;00m consumer_secret \u001b[39mis\u001b[39;00m \u001b[39mNone\u001b[39;00m:\n\u001b[0;32m---> 96\u001b[0m     \u001b[39mraise\u001b[39;00m MissingCredentialsError(\n\u001b[1;32m     97\u001b[0m         \u001b[39m'\u001b[39m\u001b[39mYou must supply strings for token_secret and consumer_secret, not None.\u001b[39m\u001b[39m'\u001b[39m)\n",
      "\u001b[0;31mMissingCredentialsError\u001b[0m: You must supply strings for token_secret and consumer_secret, not None."
     ]
    }
   ],
   "source": [
    "import twitter # Tell Python to use the twitter package\n",
    "import os\n",
    "import dotenv\n",
    "\n",
    "dotenv.load_dotenv()\n",
    "\n",
    "CONSUMER_KEY = os.getenv(\"TWITTER_CONSUMER_KEY\")\n",
    "CONSUMER_SECRET = os.getenv(\"TWITTER_CONSUMER_SECRET\")\n",
    "# to get the oauth credential you need to click on the 'Generate access token' button:\n",
    "OAUTH_TOKEN = os.getenv(\"TWITTER_OAUTH_TOKEN\")\n",
    "OAUTH_TOKEN_SECRET = os.getenv(\"TWITTER_OAUTH_TOKEN_SECRET\")\n",
    "\n",
    "auth = twitter.oauth.OAuth(OAUTH_TOKEN, OAUTH_TOKEN_SECRET,CONSUMER_KEY, CONSUMER_SECRET)\n",
    "twitter_api = twitter.Twitter(auth=auth)\n",
    "print(twitter_api) \n",
    "# Nothing to see by displaying twitter_api except that it's now a defined variable"
   ]
  },
  {
   "cell_type": "markdown",
   "metadata": {},
   "source": [
    "### 1.1: Retrieving twitter search trends (from Example 1-2/9-2 in Mining the Social Web)"
   ]
  },
  {
   "cell_type": "code",
   "execution_count": 9,
   "metadata": {},
   "outputs": [
    {
     "ename": "TwitterHTTPError",
     "evalue": "Twitter sent status 403 for URL: 1.1/trends/place.json using parameters: (id=1&oauth_consumer_key=hOEuUmOv4q9sze6tLkccWFK28&oauth_nonce=3053710589223655178&oauth_signature_method=HMAC-SHA1&oauth_timestamp=1668429141&oauth_token=887698519309651968-Fd6gQ1oApQeCHANmt7Ek5e10NtjBamU&oauth_version=1.0&oauth_signature=4zDSbZQFks%2FWNwusnst%2BEzsTqXg%3D)\ndetails: {'errors': [{'message': 'You currently have Essential access which includes access to Twitter API v2 endpoints only. If you need access to this endpoint, you’ll need to apply for Elevated access via the Developer Portal. You can learn more here: https://developer.twitter.com/en/docs/twitter-api/getting-started/about-twitter-api#v2-access-leve', 'code': 453}]}",
     "output_type": "error",
     "traceback": [
      "\u001b[0;31m---------------------------------------------------------------------------\u001b[0m",
      "\u001b[0;31mHTTPError\u001b[0m                                 Traceback (most recent call last)",
      "File \u001b[0;32m~/.cache/pypoetry/virtualenvs/social-web-I-m465Pv-py3.10/lib/python3.10/site-packages/twitter/api.py:386\u001b[0m, in \u001b[0;36mTwitterCall._handle_response\u001b[0;34m(self, req, uri, arg_data, _timeout)\u001b[0m\n\u001b[1;32m    385\u001b[0m kwargs[\u001b[39m'\u001b[39m\u001b[39mcontext\u001b[39m\u001b[39m'\u001b[39m] \u001b[39m=\u001b[39m context\n\u001b[0;32m--> 386\u001b[0m handle \u001b[39m=\u001b[39m urllib_request\u001b[39m.\u001b[39;49murlopen(req, \u001b[39m*\u001b[39;49m\u001b[39m*\u001b[39;49mkwargs)\n\u001b[1;32m    387\u001b[0m \u001b[39mif\u001b[39;00m handle\u001b[39m.\u001b[39mheaders[\u001b[39m'\u001b[39m\u001b[39mContent-Type\u001b[39m\u001b[39m'\u001b[39m] \u001b[39min\u001b[39;00m [\u001b[39m'\u001b[39m\u001b[39mimage/jpeg\u001b[39m\u001b[39m'\u001b[39m, \u001b[39m'\u001b[39m\u001b[39mimage/png\u001b[39m\u001b[39m'\u001b[39m]:\n",
      "File \u001b[0;32m/usr/lib/python3.10/urllib/request.py:216\u001b[0m, in \u001b[0;36murlopen\u001b[0;34m(url, data, timeout, cafile, capath, cadefault, context)\u001b[0m\n\u001b[1;32m    215\u001b[0m     opener \u001b[39m=\u001b[39m _opener\n\u001b[0;32m--> 216\u001b[0m \u001b[39mreturn\u001b[39;00m opener\u001b[39m.\u001b[39;49mopen(url, data, timeout)\n",
      "File \u001b[0;32m/usr/lib/python3.10/urllib/request.py:525\u001b[0m, in \u001b[0;36mOpenerDirector.open\u001b[0;34m(self, fullurl, data, timeout)\u001b[0m\n\u001b[1;32m    524\u001b[0m     meth \u001b[39m=\u001b[39m \u001b[39mgetattr\u001b[39m(processor, meth_name)\n\u001b[0;32m--> 525\u001b[0m     response \u001b[39m=\u001b[39m meth(req, response)\n\u001b[1;32m    527\u001b[0m \u001b[39mreturn\u001b[39;00m response\n",
      "File \u001b[0;32m/usr/lib/python3.10/urllib/request.py:634\u001b[0m, in \u001b[0;36mHTTPErrorProcessor.http_response\u001b[0;34m(self, request, response)\u001b[0m\n\u001b[1;32m    633\u001b[0m \u001b[39mif\u001b[39;00m \u001b[39mnot\u001b[39;00m (\u001b[39m200\u001b[39m \u001b[39m<\u001b[39m\u001b[39m=\u001b[39m code \u001b[39m<\u001b[39m \u001b[39m300\u001b[39m):\n\u001b[0;32m--> 634\u001b[0m     response \u001b[39m=\u001b[39m \u001b[39mself\u001b[39;49m\u001b[39m.\u001b[39;49mparent\u001b[39m.\u001b[39;49merror(\n\u001b[1;32m    635\u001b[0m         \u001b[39m'\u001b[39;49m\u001b[39mhttp\u001b[39;49m\u001b[39m'\u001b[39;49m, request, response, code, msg, hdrs)\n\u001b[1;32m    637\u001b[0m \u001b[39mreturn\u001b[39;00m response\n",
      "File \u001b[0;32m/usr/lib/python3.10/urllib/request.py:563\u001b[0m, in \u001b[0;36mOpenerDirector.error\u001b[0;34m(self, proto, *args)\u001b[0m\n\u001b[1;32m    562\u001b[0m args \u001b[39m=\u001b[39m (\u001b[39mdict\u001b[39m, \u001b[39m'\u001b[39m\u001b[39mdefault\u001b[39m\u001b[39m'\u001b[39m, \u001b[39m'\u001b[39m\u001b[39mhttp_error_default\u001b[39m\u001b[39m'\u001b[39m) \u001b[39m+\u001b[39m orig_args\n\u001b[0;32m--> 563\u001b[0m \u001b[39mreturn\u001b[39;00m \u001b[39mself\u001b[39;49m\u001b[39m.\u001b[39;49m_call_chain(\u001b[39m*\u001b[39;49margs)\n",
      "File \u001b[0;32m/usr/lib/python3.10/urllib/request.py:496\u001b[0m, in \u001b[0;36mOpenerDirector._call_chain\u001b[0;34m(self, chain, kind, meth_name, *args)\u001b[0m\n\u001b[1;32m    495\u001b[0m func \u001b[39m=\u001b[39m \u001b[39mgetattr\u001b[39m(handler, meth_name)\n\u001b[0;32m--> 496\u001b[0m result \u001b[39m=\u001b[39m func(\u001b[39m*\u001b[39;49margs)\n\u001b[1;32m    497\u001b[0m \u001b[39mif\u001b[39;00m result \u001b[39mis\u001b[39;00m \u001b[39mnot\u001b[39;00m \u001b[39mNone\u001b[39;00m:\n",
      "File \u001b[0;32m/usr/lib/python3.10/urllib/request.py:643\u001b[0m, in \u001b[0;36mHTTPDefaultErrorHandler.http_error_default\u001b[0;34m(self, req, fp, code, msg, hdrs)\u001b[0m\n\u001b[1;32m    642\u001b[0m \u001b[39mdef\u001b[39;00m \u001b[39mhttp_error_default\u001b[39m(\u001b[39mself\u001b[39m, req, fp, code, msg, hdrs):\n\u001b[0;32m--> 643\u001b[0m     \u001b[39mraise\u001b[39;00m HTTPError(req\u001b[39m.\u001b[39mfull_url, code, msg, hdrs, fp)\n",
      "\u001b[0;31mHTTPError\u001b[0m: HTTP Error 403: Forbidden",
      "\nDuring handling of the above exception, another exception occurred:\n",
      "\u001b[0;31mTwitterHTTPError\u001b[0m                          Traceback (most recent call last)",
      "Cell \u001b[0;32mIn [9], line 2\u001b[0m\n\u001b[1;32m      1\u001b[0m WORLD_WOE_ID \u001b[39m=\u001b[39m \u001b[39m1\u001b[39m \u001b[39m# The \"Yahoo! Where On Earth ID\" for the entire world\u001b[39;00m\n\u001b[0;32m----> 2\u001b[0m world_trends \u001b[39m=\u001b[39m twitter_api\u001b[39m.\u001b[39;49mtrends\u001b[39m.\u001b[39;49mplace(_id\u001b[39m=\u001b[39;49mWORLD_WOE_ID) \u001b[39m# get back a callable\u001b[39;00m\n\u001b[1;32m      3\u001b[0m \u001b[39mprint\u001b[39m(world_trends)\n",
      "File \u001b[0;32m~/.cache/pypoetry/virtualenvs/social-web-I-m465Pv-py3.10/lib/python3.10/site-packages/twitter/api.py:371\u001b[0m, in \u001b[0;36mTwitterCall.__call__\u001b[0;34m(self, **kwargs)\u001b[0m\n\u001b[1;32m    369\u001b[0m     \u001b[39mreturn\u001b[39;00m \u001b[39mself\u001b[39m\u001b[39m.\u001b[39m_handle_response_with_retry(req, uri, arg_data, _timeout)\n\u001b[1;32m    370\u001b[0m \u001b[39melse\u001b[39;00m:\n\u001b[0;32m--> 371\u001b[0m     \u001b[39mreturn\u001b[39;00m \u001b[39mself\u001b[39;49m\u001b[39m.\u001b[39;49m_handle_response(req, uri, arg_data, _timeout)\n",
      "File \u001b[0;32m~/.cache/pypoetry/virtualenvs/social-web-I-m465Pv-py3.10/lib/python3.10/site-packages/twitter/api.py:417\u001b[0m, in \u001b[0;36mTwitterCall._handle_response\u001b[0;34m(self, req, uri, arg_data, _timeout)\u001b[0m\n\u001b[1;32m    415\u001b[0m     \u001b[39mreturn\u001b[39;00m []\n\u001b[1;32m    416\u001b[0m \u001b[39melse\u001b[39;00m:\n\u001b[0;32m--> 417\u001b[0m     \u001b[39mraise\u001b[39;00m TwitterHTTPError(e, uri, \u001b[39mself\u001b[39m\u001b[39m.\u001b[39mformat, arg_data)\n",
      "\u001b[0;31mTwitterHTTPError\u001b[0m: Twitter sent status 403 for URL: 1.1/trends/place.json using parameters: (id=1&oauth_consumer_key=hOEuUmOv4q9sze6tLkccWFK28&oauth_nonce=3053710589223655178&oauth_signature_method=HMAC-SHA1&oauth_timestamp=1668429141&oauth_token=887698519309651968-Fd6gQ1oApQeCHANmt7Ek5e10NtjBamU&oauth_version=1.0&oauth_signature=4zDSbZQFks%2FWNwusnst%2BEzsTqXg%3D)\ndetails: {'errors': [{'message': 'You currently have Essential access which includes access to Twitter API v2 endpoints only. If you need access to this endpoint, you’ll need to apply for Elevated access via the Developer Portal. You can learn more here: https://developer.twitter.com/en/docs/twitter-api/getting-started/about-twitter-api#v2-access-leve', 'code': 453}]}"
     ]
    }
   ],
   "source": [
    "WORLD_WOE_ID = 1 # The \"Yahoo! Where On Earth ID\" for the entire world\n",
    "world_trends = twitter_api.trends.place(_id=WORLD_WOE_ID) # get back a callable\n",
    "print(world_trends)"
   ]
  },
  {
   "cell_type": "markdown",
   "metadata": {},
   "source": [
    "### Task 1\n",
    "Twitter uses WOEIDs. Find out how WORLD_WOE_IDs were originally defined by Yahoo! and try to use others in a query. What kind of differences do you find between the worldwide trends and the local trends? \n"
   ]
  },
  {
   "cell_type": "code",
   "execution_count": null,
   "metadata": {},
   "outputs": [
    {
     "ename": "",
     "evalue": "",
     "output_type": "error",
     "traceback": [
      "\u001b[1;31mJupyter cannot be started. Error attempting to locate Jupyter: Running cells with 'Python 3.10.6 64-bit' requires jupyter and notebook package.\n",
      "\u001b[1;31mRun the following command to install 'jupyter and notebook' into the Python environment. \n",
      "\u001b[1;31mCommand: 'python -m pip install jupyter notebook -U\n",
      "\u001b[1;31mor\n",
      "\u001b[1;31mconda install jupyter notebook -U'\n",
      "\u001b[1;31mClick <a href='https://aka.ms/installJupyterForVSCode'>here</a> for more info."
     ]
    }
   ],
   "source": [
    "# Your code here\n",
    "#\n",
    "#\n",
    "#\n",
    "#\n",
    "#"
   ]
  },
  {
   "cell_type": "markdown",
   "metadata": {},
   "source": [
    "### 1.2: Retrieving search results (from Example 1-5/9-3 in Mining the Social Web):"
   ]
  },
  {
   "cell_type": "code",
   "execution_count": null,
   "metadata": {},
   "outputs": [
    {
     "ename": "",
     "evalue": "",
     "output_type": "error",
     "traceback": [
      "\u001b[1;31mJupyter cannot be started. Error attempting to locate Jupyter: Running cells with 'Python 3.10.6 64-bit' requires jupyter and notebook package.\n",
      "\u001b[1;31mRun the following command to install 'jupyter and notebook' into the Python environment. \n",
      "\u001b[1;31mCommand: 'python -m pip install jupyter notebook -U\n",
      "\u001b[1;31mor\n",
      "\u001b[1;31mconda install jupyter notebook -U'\n",
      "\u001b[1;31mClick <a href='https://aka.ms/installJupyterForVSCode'>here</a> for more info."
     ]
    }
   ],
   "source": [
    "q = '#ThrowbackThursday' # XXX: Set this variable to a trending topic, or anything else you like. \n",
    "count = 100 # number of results to retrieve\n",
    "\n",
    "# See https://dev.twitter.com/docs/api/1.1/get/search/tweets for more info\n",
    "\n",
    "search_results = twitter_api.search.tweets(q=q, count=count) # search for your query 'q' 100 times\n",
    "statuses = search_results['statuses'] # extract the tweets found\n",
    "\n",
    "# The following code allows you to print in a nice format the contents of search_results\n",
    "import json\n",
    "print(type(statuses))\n",
    "print(json.dumps(statuses[0], indent=1))"
   ]
  },
  {
   "cell_type": "markdown",
   "metadata": {},
   "source": [
    "### Task 2\n",
    "\n",
    "In the cell below, create a second variable (e.g. `statuses2`) that holds the results of a query other than the one presented above. Think about a query that would yield very different results than the first one, for example one that may yield a shorter output or about a different topic."
   ]
  },
  {
   "cell_type": "code",
   "execution_count": null,
   "metadata": {},
   "outputs": [
    {
     "ename": "",
     "evalue": "",
     "output_type": "error",
     "traceback": [
      "\u001b[1;31mJupyter cannot be started. Error attempting to locate Jupyter: Running cells with 'Python 3.10.6 64-bit' requires jupyter and notebook package.\n",
      "\u001b[1;31mRun the following command to install 'jupyter and notebook' into the Python environment. \n",
      "\u001b[1;31mCommand: 'python -m pip install jupyter notebook -U\n",
      "\u001b[1;31mor\n",
      "\u001b[1;31mconda install jupyter notebook -U'\n",
      "\u001b[1;31mClick <a href='https://aka.ms/installJupyterForVSCode'>here</a> for more info."
     ]
    }
   ],
   "source": [
    "# your code here\n",
    "#\n",
    "#\n",
    "#\n",
    "#\n",
    "#\n",
    "#\n",
    "print()"
   ]
  },
  {
   "cell_type": "markdown",
   "metadata": {},
   "source": [
    "## Part 2: Extracting text, screen names, and hashtags from tweets (from Example 1-6 in Mining the Social Web)\n",
    "\n",
    "Simply printing all the search results to screen is nice, but to really start analysing them, it is handy to select the interesting parts and store them in a different structure such as a list. \n",
    "\n",
    "In this example you are using a thing called \"List Comprehension\".\n",
    "\n",
    "### 2.1 List Comprehensions\n",
    "List comprehension is a powerful construct that allows to succinctly build a list.\n",
    "With it you can process items from any iterable (e.g. dictionaries, lists, tuples, iterators...) and output a list while optionally performing an operation on each value.\n",
    "\n",
    "Here's a few examples:"
   ]
  },
  {
   "cell_type": "code",
   "execution_count": null,
   "metadata": {},
   "outputs": [
    {
     "ename": "",
     "evalue": "",
     "output_type": "error",
     "traceback": [
      "\u001b[1;31mJupyter cannot be started. Error attempting to locate Jupyter: Running cells with 'Python 3.10.6 64-bit' requires jupyter and notebook package.\n",
      "\u001b[1;31mRun the following command to install 'jupyter and notebook' into the Python environment. \n",
      "\u001b[1;31mCommand: 'python -m pip install jupyter notebook -U\n",
      "\u001b[1;31mor\n",
      "\u001b[1;31mconda install jupyter notebook -U'\n",
      "\u001b[1;31mClick <a href='https://aka.ms/installJupyterForVSCode'>here</a> for more info."
     ]
    }
   ],
   "source": [
    "# double all values from 0 to 9\n",
    "double_list = [i*2 for i in range(10)]\n",
    "# raise to the power of 2, but only if the number is uneven\n",
    "power_even_list = [i**2 for i in range(10) if i%2!=0]\n",
    "# clean strings in a tuple\n",
    "stripped_lines = [x.strip() for x in ('The\\n', 'Social\\n', 'Web\\n')]\n",
    "# return length of each string in stripped_lines\n",
    "len_str_lines = [len(s) for s in stripped_lines]\n",
    "# finally, we can nest list comprehensions to flatten a list of lists:\n",
    "list_of_lists = [[1, 2, 3], [4, 5, 6], [7, 8, 9]]\n",
    "range_9 = [x for y in list_of_lists for x in y]\n",
    "\n",
    "print(double_list)\n",
    "print(power_even_list)\n",
    "print(stripped_lines)\n",
    "print(len_str_lines)\n",
    "print(range_9)"
   ]
  },
  {
   "cell_type": "markdown",
   "metadata": {},
   "source": [
    "### 2.2 Parsing text, screen names and hashtags from tweets\n",
    "*(from Example 1-6 in Mining the Social Web)*\n",
    "\n",
    "Hereafter, we'll be creating a variable `status_texts` of type list. \\\n",
    "The list will be filled with the `text` elements from each `status`, whereas `status` comes from looping through all `statuses` in the `search_results` list (1.2). \\\n",
    "Look up the list comprehensions in your Python reference materials to make sure you understand what's happening here. "
   ]
  },
  {
   "cell_type": "code",
   "execution_count": null,
   "metadata": {},
   "outputs": [
    {
     "ename": "",
     "evalue": "",
     "output_type": "error",
     "traceback": [
      "\u001b[1;31mJupyter cannot be started. Error attempting to locate Jupyter: Running cells with 'Python 3.10.6 64-bit' requires jupyter and notebook package.\n",
      "\u001b[1;31mRun the following command to install 'jupyter and notebook' into the Python environment. \n",
      "\u001b[1;31mCommand: 'python -m pip install jupyter notebook -U\n",
      "\u001b[1;31mor\n",
      "\u001b[1;31mconda install jupyter notebook -U'\n",
      "\u001b[1;31mClick <a href='https://aka.ms/installJupyterForVSCode'>here</a> for more info."
     ]
    }
   ],
   "source": [
    "status_texts = [ status['text'] for status in statuses ]\n",
    "# the escape character \"\\\" allows for the list comprehension to continue\n",
    "# on a new line. While not strictly necessary, it makes code more readable\n",
    "# for your fellow programmers.\n",
    "screen_names = [ user_mention['screen_name'] for status in statuses \\\n",
    "                for user_mention in status['entities']['user_mentions'] ]\n",
    "\n",
    "hashtags = [ hashtag['text'] for status in statuses \\\n",
    "        for hashtag in status['entities']['hashtags'] ]\n",
    "\n",
    "# Compute a collection of all words from all tweets\n",
    "words = [ w for t in status_texts for w in t.split() ] #split the string on the empty spaces\n",
    "\n",
    "# Explore the first 5 items for each...\n",
    "print(json.dumps(status_texts[0:5], indent=1))\n",
    "print(json.dumps(screen_names[0:5], indent=1))\n",
    "print(json.dumps(hashtags[0:5], indent=1))\n",
    "print(json.dumps(words[0:5], indent=1))"
   ]
  },
  {
   "cell_type": "markdown",
   "metadata": {},
   "source": [
    "### Task 3\n",
    "\n",
    "You are now ready to parse usernames, hashtags and text from the results you previously obtained in Task 2 (e.g. `statuses_2`). While doing it, make sure to leave the variables created in 2.2 untouched. Instead, create your own variable names, which you'll be using soon.\n"
   ]
  },
  {
   "cell_type": "code",
   "execution_count": null,
   "metadata": {},
   "outputs": [
    {
     "ename": "",
     "evalue": "",
     "output_type": "error",
     "traceback": [
      "\u001b[1;31mJupyter cannot be started. Error attempting to locate Jupyter: Running cells with 'Python 3.10.6 64-bit' requires jupyter and notebook package.\n",
      "\u001b[1;31mRun the following command to install 'jupyter and notebook' into the Python environment. \n",
      "\u001b[1;31mCommand: 'python -m pip install jupyter notebook -U\n",
      "\u001b[1;31mor\n",
      "\u001b[1;31mconda install jupyter notebook -U'\n",
      "\u001b[1;31mClick <a href='https://aka.ms/installJupyterForVSCode'>here</a> for more info."
     ]
    }
   ],
   "source": [
    "# your code here\n",
    "#\n",
    "#\n",
    "#\n",
    "#"
   ]
  },
  {
   "cell_type": "markdown",
   "metadata": {},
   "source": [
    "## Part 3: Creating a basic frequency distribution from words in tweets\n",
    "*(from Examples 1-7 in Mining the Social Web)* \n",
    "\n",
    "\n",
    "In the cell below we display the 10 most common hashtag instances:"
   ]
  },
  {
   "cell_type": "code",
   "execution_count": null,
   "metadata": {},
   "outputs": [
    {
     "ename": "",
     "evalue": "",
     "output_type": "error",
     "traceback": [
      "\u001b[1;31mJupyter cannot be started. Error attempting to locate Jupyter: Running cells with 'Python 3.10.6 64-bit' requires jupyter and notebook package.\n",
      "\u001b[1;31mRun the following command to install 'jupyter and notebook' into the Python environment. \n",
      "\u001b[1;31mCommand: 'python -m pip install jupyter notebook -U\n",
      "\u001b[1;31mor\n",
      "\u001b[1;31mconda install jupyter notebook -U'\n",
      "\u001b[1;31mClick <a href='https://aka.ms/installJupyterForVSCode'>here</a> for more info."
     ]
    }
   ],
   "source": [
    "from collections import Counter\n",
    "\n",
    "for item in [words, screen_names, hashtags]:\n",
    "    c = Counter(item)\n",
    "    \n",
    "print(c.most_common()[:10]) # top 10"
   ]
  },
  {
   "cell_type": "markdown",
   "metadata": {},
   "source": [
    "Your output should look something like this: \\\n",
    "`[('ThrowbackThursday', 34), ('throwbackthursday', 11), ('TBT', 6), ('ThrowBackThursday', 6), ('Trivia', 3), ('madoka_magica', 2), ('New', 2), ('EURO2020', 2), ('artists', 2)]`\n",
    "\n",
    "### Task 4\n",
    "Show hashtags frequency for results that you obtained in Task 3. Think about possible explanations for the different results you get from the analyses for the different queries.\n"
   ]
  },
  {
   "cell_type": "code",
   "execution_count": null,
   "metadata": {},
   "outputs": [
    {
     "ename": "",
     "evalue": "",
     "output_type": "error",
     "traceback": [
      "\u001b[1;31mJupyter cannot be started. Error attempting to locate Jupyter: Running cells with 'Python 3.10.6 64-bit' requires jupyter and notebook package.\n",
      "\u001b[1;31mRun the following command to install 'jupyter and notebook' into the Python environment. \n",
      "\u001b[1;31mCommand: 'python -m pip install jupyter notebook -U\n",
      "\u001b[1;31mor\n",
      "\u001b[1;31mconda install jupyter notebook -U'\n",
      "\u001b[1;31mClick <a href='https://aka.ms/installJupyterForVSCode'>here</a> for more info."
     ]
    }
   ],
   "source": [
    "# You code here\n",
    "#\n",
    "#\n",
    "#\n",
    "#\n",
    "#"
   ]
  },
  {
   "cell_type": "markdown",
   "metadata": {},
   "source": [
    "### 3.1 Storing your results\n",
    "So far, we have been storing the data in working memory. Often it's handy to store your data to disk so you can retrieve it in a next session. \n",
    "\n",
    "The pickle module lets you do exactly that, by serializing data in a binary format.\n"
   ]
  },
  {
   "cell_type": "code",
   "execution_count": null,
   "metadata": {},
   "outputs": [
    {
     "ename": "",
     "evalue": "",
     "output_type": "error",
     "traceback": [
      "\u001b[1;31mJupyter cannot be started. Error attempting to locate Jupyter: Running cells with 'Python 3.10.6 64-bit' requires jupyter and notebook package.\n",
      "\u001b[1;31mRun the following command to install 'jupyter and notebook' into the Python environment. \n",
      "\u001b[1;31mCommand: 'python -m pip install jupyter notebook -U\n",
      "\u001b[1;31mor\n",
      "\u001b[1;31mconda install jupyter notebook -U'\n",
      "\u001b[1;31mClick <a href='https://aka.ms/installJupyterForVSCode'>here</a> for more info."
     ]
    }
   ],
   "source": [
    "import pickle\n",
    "\n",
    "filepath = \"my_data.pickle\"\n",
    "# this indented python syntax is broadly defined as \"context manager\".\n",
    "# This means that everything happening under its indentation will use f\n",
    "# as file handle to filepath. The Shortand `wb` stands for \"write binary\",\n",
    "# which is how we serialize data to disk.\n",
    "with open(filepath, \"wb\") as f:\n",
    "    pickle.dump(words, f) # write the contents of list 'words' to file 'f'\n",
    "    \n",
    "# Note that, after the end of the indented block, the file is automatically closed.\n",
    "# Hence, no memory resource on your system is wasted idly."
   ]
  },
  {
   "cell_type": "markdown",
   "metadata": {},
   "source": [
    "If you browse to your working directory, you should find a file there named \"myData.pickle\". You can open this in a text editor, or load its contents back into a variable to do some more analyses on.\n"
   ]
  },
  {
   "cell_type": "code",
   "execution_count": null,
   "metadata": {},
   "outputs": [
    {
     "ename": "",
     "evalue": "",
     "output_type": "error",
     "traceback": [
      "\u001b[1;31mJupyter cannot be started. Error attempting to locate Jupyter: Running cells with 'Python 3.10.6 64-bit' requires jupyter and notebook package.\n",
      "\u001b[1;31mRun the following command to install 'jupyter and notebook' into the Python environment. \n",
      "\u001b[1;31mCommand: 'python -m pip install jupyter notebook -U\n",
      "\u001b[1;31mor\n",
      "\u001b[1;31mconda install jupyter notebook -U'\n",
      "\u001b[1;31mClick <a href='https://aka.ms/installJupyterForVSCode'>here</a> for more info."
     ]
    }
   ],
   "source": [
    "# open the myData.pickle file and store its contents into variable 'words'\n",
    "\n",
    "with open(filepath, \"rb\") as f:\n",
    "    words = pickle.load(f)\n",
    "print(words)"
   ]
  },
  {
   "cell_type": "markdown",
   "metadata": {},
   "source": [
    "### 3.2 Using prettytable to display tuples in a nice way\n",
    "\n"
   ]
  },
  {
   "cell_type": "code",
   "execution_count": null,
   "metadata": {},
   "outputs": [
    {
     "ename": "",
     "evalue": "",
     "output_type": "error",
     "traceback": [
      "\u001b[1;31mJupyter cannot be started. Error attempting to locate Jupyter: Running cells with 'Python 3.10.6 64-bit' requires jupyter and notebook package.\n",
      "\u001b[1;31mRun the following command to install 'jupyter and notebook' into the Python environment. \n",
      "\u001b[1;31mCommand: 'python -m pip install jupyter notebook -U\n",
      "\u001b[1;31mor\n",
      "\u001b[1;31mconda install jupyter notebook -U'\n",
      "\u001b[1;31mClick <a href='https://aka.ms/installJupyterForVSCode'>here</a> for more info."
     ]
    }
   ],
   "source": [
    "from prettytable import PrettyTable\n",
    "for label, data in (('Word', words),\n",
    "                    ('Screen Name', screen_names),\n",
    "                    ('Hashtag', hashtags)):\n",
    "    pt = PrettyTable(field_names=[label, 'Count'])\n",
    "    c = Counter(data)\n",
    "    [ pt.add_row(kv) for kv in c.most_common()[:10] ]\n",
    "    pt.align[label], pt.align['Count'] = 'l', 'r' # Set column alignment\n",
    "    print(pt) "
   ]
  },
  {
   "cell_type": "markdown",
   "metadata": {},
   "source": [
    "### 3.3 Calculating lexical diversity for tweets \n",
    "*(from Example 1-9 in Mining the Social Web)*:"
   ]
  },
  {
   "cell_type": "code",
   "execution_count": null,
   "metadata": {},
   "outputs": [
    {
     "ename": "",
     "evalue": "",
     "output_type": "error",
     "traceback": [
      "\u001b[1;31mJupyter cannot be started. Error attempting to locate Jupyter: Running cells with 'Python 3.10.6 64-bit' requires jupyter and notebook package.\n",
      "\u001b[1;31mRun the following command to install 'jupyter and notebook' into the Python environment. \n",
      "\u001b[1;31mCommand: 'python -m pip install jupyter notebook -U\n",
      "\u001b[1;31mor\n",
      "\u001b[1;31mconda install jupyter notebook -U'\n",
      "\u001b[1;31mClick <a href='https://aka.ms/installJupyterForVSCode'>here</a> for more info."
     ]
    }
   ],
   "source": [
    "# Define a function for computing lexical diversity\n",
    "def lexical_diversity(tokens):\n",
    "    return 1.0*len(set(tokens))/len(tokens)\n",
    "\n",
    "# Define a function for computing the average number of words per tweet\n",
    "def average_words(statuses):\n",
    "    total_words = sum([ len(s.split()) for s in statuses ])\n",
    "    return 1.0*total_words/len(statuses) \n",
    "\n",
    "# Let's use these functions:\n",
    "\n",
    "print(lexical_diversity(words))\n",
    "print(lexical_diversity(screen_names))\n",
    "print(lexical_diversity(hashtags))\n",
    "print(average_words(status_texts))"
   ]
  },
  {
   "cell_type": "markdown",
   "metadata": {},
   "source": [
    "### Task 5: What do the printed numbers indicate? Try to explain them.\n",
    "\n",
    "(*Double click this cell to write your answer*)"
   ]
  },
  {
   "cell_type": "markdown",
   "metadata": {},
   "source": [
    "### 3.4 Finding the most popular retweets \n",
    "*(from Example 1-10 in Mining the Social Web):*"
   ]
  },
  {
   "cell_type": "code",
   "execution_count": null,
   "metadata": {},
   "outputs": [
    {
     "ename": "",
     "evalue": "",
     "output_type": "error",
     "traceback": [
      "\u001b[1;31mJupyter cannot be started. Error attempting to locate Jupyter: Running cells with 'Python 3.10.6 64-bit' requires jupyter and notebook package.\n",
      "\u001b[1;31mRun the following command to install 'jupyter and notebook' into the Python environment. \n",
      "\u001b[1;31mCommand: 'python -m pip install jupyter notebook -U\n",
      "\u001b[1;31mor\n",
      "\u001b[1;31mconda install jupyter notebook -U'\n",
      "\u001b[1;31mClick <a href='https://aka.ms/installJupyterForVSCode'>here</a> for more info."
     ]
    }
   ],
   "source": [
    "retweet_cnt_un_txt = [(status['retweet_count'],\n",
    "    status['retweeted_status']['user']['screen_name'],\n",
    "    status['text'])# Store out a tuple of these three values\n",
    "    for status in statuses # for each status\n",
    "    if 'retweeted_status' in status # ... so long as the status meets this condition.\n",
    "    ]\n",
    "\n",
    "# Slice off the first 5 from the sorted results and display each item in the tuple\n",
    "pt = PrettyTable(field_names=['Count', 'Screen Name', 'Text'])\n",
    "[ pt.add_row(row) for row in sorted(retweet_cnt_un_txt, reverse=True)[:5] ]\n",
    "pt.max_width['Text'] = 50\n",
    "pt.align= 'l'\n",
    "print(pt)"
   ]
  },
  {
   "cell_type": "markdown",
   "metadata": {},
   "source": [
    "### 3.5 Looking up users who have retweeted a status \n",
    "*(from Example 1-11 in Mining the Social Web):*"
   ]
  },
  {
   "cell_type": "code",
   "execution_count": null,
   "metadata": {},
   "outputs": [
    {
     "ename": "",
     "evalue": "",
     "output_type": "error",
     "traceback": [
      "\u001b[1;31mJupyter cannot be started. Error attempting to locate Jupyter: Running cells with 'Python 3.10.6 64-bit' requires jupyter and notebook package.\n",
      "\u001b[1;31mRun the following command to install 'jupyter and notebook' into the Python environment. \n",
      "\u001b[1;31mCommand: 'python -m pip install jupyter notebook -U\n",
      "\u001b[1;31mor\n",
      "\u001b[1;31mconda install jupyter notebook -U'\n",
      "\u001b[1;31mClick <a href='https://aka.ms/installJupyterForVSCode'>here</a> for more info."
     ]
    }
   ],
   "source": [
    "retweets = twitter_api.statuses.retweets(id=1224140327688249349) # Get the original tweet id for a tweet from its retweeted_status node and insert it here\n",
    "print(\"Users who've retweeted the tweet:\\n\")\n",
    "print([r['user']['screen_name'] for r in _retweets])"
   ]
  },
  {
   "cell_type": "markdown",
   "metadata": {},
   "source": [
    "### Task 6 (advanced)\n",
    "\n",
    "If you have a Twitter account with a nontrivial number of tweets, request your historical tweet archive from your account settings and analyze it. \\\n",
    "The export of your account data includes files organized by time period in a convenient JSON format. See the README.txt file included in the downloaded archive for more details. \n",
    "\n",
    "\n",
    "\n",
    "What are the most common terms that appear in your tweets? \\\n",
    "Who do you retweet the most often? \\\n",
    "How many of your tweets are retweeted (and why do you think this is the case)?"
   ]
  },
  {
   "cell_type": "markdown",
   "metadata": {},
   "source": [
    "### 3.6 Plotting frequencies of words \n",
    "*(from Example 1-12 in Mining the Social Web)*\n",
    "\n",
    "\n",
    "In the previous exercises we have been looking at the text from the tweets, but when you retrieved the results, you retrieved much more information about the tweets, such as the username of the person who shared this tweet with the world. \n",
    "\n",
    "\n",
    "You can use this information to find out who retweets whom in our examples. "
   ]
  },
  {
   "cell_type": "code",
   "execution_count": null,
   "metadata": {},
   "outputs": [
    {
     "ename": "",
     "evalue": "",
     "output_type": "error",
     "traceback": [
      "\u001b[1;31mJupyter cannot be started. Error attempting to locate Jupyter: Running cells with 'Python 3.10.6 64-bit' requires jupyter and notebook package.\n",
      "\u001b[1;31mRun the following command to install 'jupyter and notebook' into the Python environment. \n",
      "\u001b[1;31mCommand: 'python -m pip install jupyter notebook -U\n",
      "\u001b[1;31mor\n",
      "\u001b[1;31mconda install jupyter notebook -U'\n",
      "\u001b[1;31mClick <a href='https://aka.ms/installJupyterForVSCode'>here</a> for more info."
     ]
    }
   ],
   "source": [
    "word_counts = sorted(Counter(words).values(), reverse=True)\n",
    "import matplotlib.pyplot as plt\n",
    "plt.loglog(word_counts)\n",
    "plt.ylabel(\"Freq\")\n",
    "plt.xlabel(\"Word Rank\")\n",
    "plt.show()"
   ]
  },
  {
   "cell_type": "markdown",
   "metadata": {},
   "source": [
    "### Generating histograms of words, screen names, and hashtags \n",
    "*(from Example 1-13 in Mining the Social Web):*"
   ]
  },
  {
   "cell_type": "code",
   "execution_count": null,
   "metadata": {},
   "outputs": [
    {
     "ename": "",
     "evalue": "",
     "output_type": "error",
     "traceback": [
      "\u001b[1;31mJupyter cannot be started. Error attempting to locate Jupyter: Running cells with 'Python 3.10.6 64-bit' requires jupyter and notebook package.\n",
      "\u001b[1;31mRun the following command to install 'jupyter and notebook' into the Python environment. \n",
      "\u001b[1;31mCommand: 'python -m pip install jupyter notebook -U\n",
      "\u001b[1;31mor\n",
      "\u001b[1;31mconda install jupyter notebook -U'\n",
      "\u001b[1;31mClick <a href='https://aka.ms/installJupyterForVSCode'>here</a> for more info."
     ]
    }
   ],
   "source": [
    "for label, data in (('Word', words),\n",
    "                    ('Screen Name', screen_names),\n",
    "                    ('Hashtag', hashtags)):\n",
    "    c = Counter(data)\n",
    "    plt.hist(c.values())\n",
    "    \n",
    "    plt.title(label)\n",
    "    plt.ylabel(\"Number of items in bin\")\n",
    "    plt.xlabel(\"Bins (number of times an item appeared)\")\n",
    "    \n",
    "    plt.figure()"
   ]
  },
  {
   "cell_type": "code",
   "execution_count": null,
   "metadata": {},
   "outputs": [
    {
     "ename": "",
     "evalue": "",
     "output_type": "error",
     "traceback": [
      "\u001b[1;31mJupyter cannot be started. Error attempting to locate Jupyter: Running cells with 'Python 3.10.6 64-bit' requires jupyter and notebook package.\n",
      "\u001b[1;31mRun the following command to install 'jupyter and notebook' into the Python environment. \n",
      "\u001b[1;31mCommand: 'python -m pip install jupyter notebook -U\n",
      "\u001b[1;31mor\n",
      "\u001b[1;31mconda install jupyter notebook -U'\n",
      "\u001b[1;31mClick <a href='https://aka.ms/installJupyterForVSCode'>here</a> for more info."
     ]
    }
   ],
   "source": [
    "# extra: seaborn plots with a one-liner.\n",
    "!pip install seaborn\n",
    "import seaborn as sns\n",
    "\n",
    "sns.distplot(word_counts, kde=False, rug=True)\n"
   ]
  }
 ],
 "metadata": {
  "kernelspec": {
   "display_name": "Python 3 (ipykernel)",
   "language": "python",
   "name": "python3"
  },
  "language_info": {
   "codemirror_mode": {
    "name": "ipython",
    "version": 3
   },
   "file_extension": ".py",
   "mimetype": "text/x-python",
   "name": "python",
   "nbconvert_exporter": "python",
   "pygments_lexer": "ipython3",
   "version": "3.10.6"
  },
  "vscode": {
   "interpreter": {
    "hash": "916dbcbb3f70747c44a77c7bcd40155683ae19c65e1c03b4aa3499c5328201f1"
   }
  }
 },
 "nbformat": 4,
 "nbformat_minor": 2
}
