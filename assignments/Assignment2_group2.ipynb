{
 "cells": [
  {
   "cell_type": "markdown",
   "metadata": {
    "id": "dcMf4aubeMI9"
   },
   "source": [
    "*****************************************************************\n",
    "#  The Social Web: data representation\n",
    "- Instructors: Jacco van Ossenbruggen.\n",
    "- TAs: Ayesha Noorain, Alex Boyko, Caio Silva, Elena Beretta, Mirthe Dankloff.\n",
    "- Exercises for Hands-on session 2\n",
    "*****************************************************************"
   ]
  },
  {
   "cell_type": "markdown",
   "metadata": {
    "id": "Zhts5HMzeMI-"
   },
   "source": [
    "In this session you are going to mine data in various microformats. You will see the differences in what each of the formats can contain and what purpose they serve. We will start by looking at geographical data.\n",
    "\n",
    "Prerequisites:\n",
    "- Python 3.8\n",
    "- Python packages: requests, BeautifulSoup4, HTMLParser, rdflib\n"
   ]
  },
  {
   "cell_type": "code",
   "execution_count": 10,
   "metadata": {
    "colab": {
     "base_uri": "https://localhost:8080/",
     "height": 204
    },
    "id": "6f-OtFPPeMJA",
    "outputId": "9bcb836f-4204-4fac-d133-99e81a0b2884"
   },
   "outputs": [
    {
     "name": "stdout",
     "output_type": "stream",
     "text": [
      "Requirement already satisfied: requests in /opt/anaconda3/lib/python3.8/site-packages (2.24.0)\n",
      "Requirement already satisfied: certifi>=2017.4.17 in /opt/anaconda3/lib/python3.8/site-packages (from requests) (2020.6.20)\n",
      "Requirement already satisfied: idna<3,>=2.5 in /opt/anaconda3/lib/python3.8/site-packages (from requests) (2.10)\n",
      "Requirement already satisfied: urllib3!=1.25.0,!=1.25.1,<1.26,>=1.21.1 in /opt/anaconda3/lib/python3.8/site-packages (from requests) (1.25.9)\n",
      "Requirement already satisfied: chardet<4,>=3.0.2 in /opt/anaconda3/lib/python3.8/site-packages (from requests) (3.0.4)\n",
      "\u001b[33mWARNING: You are using pip version 22.0.4; however, version 22.3.1 is available.\n",
      "You should consider upgrading via the '/opt/anaconda3/bin/python -m pip install --upgrade pip' command.\u001b[0m\u001b[33m\n",
      "\u001b[0mRequirement already satisfied: BeautifulSoup4 in /opt/anaconda3/lib/python3.8/site-packages (4.9.1)\n",
      "Requirement already satisfied: soupsieve>1.2 in /opt/anaconda3/lib/python3.8/site-packages (from BeautifulSoup4) (2.0.1)\n",
      "\u001b[33mWARNING: You are using pip version 22.0.4; however, version 22.3.1 is available.\n",
      "You should consider upgrading via the '/opt/anaconda3/bin/python -m pip install --upgrade pip' command.\u001b[0m\u001b[33m\n",
      "\u001b[0mRequirement already satisfied: HTMLParser in /opt/anaconda3/lib/python3.8/site-packages (0.0.2)\n",
      "\u001b[33mWARNING: You are using pip version 22.0.4; however, version 22.3.1 is available.\n",
      "You should consider upgrading via the '/opt/anaconda3/bin/python -m pip install --upgrade pip' command.\u001b[0m\u001b[33m\n",
      "\u001b[0mRequirement already satisfied: rdflib in /opt/anaconda3/lib/python3.8/site-packages (6.2.0)\n",
      "Requirement already satisfied: pyparsing in /opt/anaconda3/lib/python3.8/site-packages (from rdflib) (2.4.7)\n",
      "Requirement already satisfied: isodate in /opt/anaconda3/lib/python3.8/site-packages (from rdflib) (0.6.1)\n",
      "Requirement already satisfied: setuptools in /opt/anaconda3/lib/python3.8/site-packages (from rdflib) (62.1.0)\n",
      "Requirement already satisfied: six in /opt/anaconda3/lib/python3.8/site-packages (from isodate->rdflib) (1.15.0)\n",
      "\u001b[33mWARNING: You are using pip version 22.0.4; however, version 22.3.1 is available.\n",
      "You should consider upgrading via the '/opt/anaconda3/bin/python -m pip install --upgrade pip' command.\u001b[0m\u001b[33m\n",
      "\u001b[0m"
     ]
    }
   ],
   "source": [
    "# If you're using a virtualenv, make sure it's activated before running\n",
    "# this cell!\n",
    "!pip install requests\n",
    "!pip install BeautifulSoup4\n",
    "!pip install HTMLParser\n",
    "!pip install rdflib"
   ]
  },
  {
   "cell_type": "markdown",
   "metadata": {
    "id": "irPnmIK4eMJd"
   },
   "source": [
    "##  Exercise 1\n",
    "\n",
    "Even if web pages do not use microformat, interesting data can often be extracted from the HTML. You may use packages such as BeautifulSoup to extract arbitrary pieces of data from any HTML page.\n",
    "The example below shows how we can find the URL of first image in the infobox table of the wikipedia page on Amsterdam. Tip: compare the code below with HTML source code of the wikipedia page: the image url is in the \"src\" attribute of the \"img\" element of in the \"table\" element with class=\"infobox\"."
   ]
  },
  {
   "cell_type": "code",
   "execution_count": 11,
   "metadata": {
    "colab": {
     "base_uri": "https://localhost:8080/",
     "height": 34
    },
    "id": "9gpHw90keMJf",
    "outputId": "7ae1fe64-8d85-4a47-cfdf-422284954d81"
   },
   "outputs": [
    {
     "name": "stdout",
     "output_type": "stream",
     "text": [
      "//upload.wikimedia.org/wikipedia/commons/thumb/b/be/KeizersgrachtReguliersgrachtAmsterdam.jpg/270px-KeizersgrachtReguliersgrachtAmsterdam.jpg\n"
     ]
    }
   ],
   "source": [
    "# -*- coding: utf-8 -*-\n",
    "\n",
    "import requests\n",
    "from bs4 import BeautifulSoup\n",
    "\n",
    "# This script requires you to add a url of a page with geotags to the commandline, e.g.\n",
    "# python geo.py 'http://en.wikipedia.org/wiki/Amsterdam'\n",
    "URL = 'https://en.wikipedia.org/wiki/Amsterdam'\n",
    "\n",
    "req = requests.get(URL, headers={'User-Agent' : \"Social Web Course Student\"})\n",
    "soup = BeautifulSoup(req.text)\n",
    "# print(req.text)\n",
    "image1 = soup.findAll('table', class_='infobox')[0].find('img')\n",
    "print(image1['src'])  \n"
   ]
  },
  {
   "cell_type": "markdown",
   "metadata": {},
   "source": [
    "Extracting coordinates from a webpage and reformatting them in the geo microformat (based on Example 8-1 in Mining the Social Web). Note that wikipages may encode long/lat information in different ways. On of the ways used by the Amsterdam wikipedia page is in a span element that is not shown to the user: \n",
    "<span class=\"geo\">52.367; 4.900</span>\n",
    "This span element has a single child: len(geoTag == 1) and no further structure, we have to manually get the long/lat by splitting the string on the ';' semicolon."
   ]
  },
  {
   "cell_type": "code",
   "execution_count": 12,
   "metadata": {
    "colab": {
     "base_uri": "https://localhost:8080/",
     "height": 34
    },
    "id": "LtHtQT9PeMJl",
    "outputId": "8a7f7b52-cdb2-409f-b3f0-ee7adf60a9f7"
   },
   "outputs": [
    {
     "name": "stdout",
     "output_type": "stream",
     "text": [
      "<span class=\"geo\">52.367; 4.900</span>\n",
      "Location is at 52.367 4.900\n"
     ]
    }
   ],
   "source": [
    "geoTag = soup.find(True, 'geo')\n",
    "print(geoTag)\n",
    "\n",
    "if geoTag and len(geoTag) > 1:\n",
    "        lat = geoTag.find(True, 'latitude').string\n",
    "        lon = geoTag.find(True, 'longitude').string\n",
    "        print ('Location is at'), lat, lon\n",
    "elif geoTag and len(geoTag) == 1:\n",
    "        (lat, lon) = geoTag.string.split(';')\n",
    "        (lat, lon) = (lat.strip(), lon.strip())\n",
    "        print (('Location is at'), lat, lon)\n",
    "else:\n",
    "        print ('Location not found')\n"
   ]
  },
  {
   "cell_type": "markdown",
   "metadata": {
    "id": "8S_bXnjveMJp"
   },
   "source": [
    "### Task 1\n",
    "\n",
    "Can you convert the output of Exercise 1 into KML? Here is the KML documentation: https://developers.google.com/kml/documentation/?csw=1 and here you can find a simple example of how it is used: https://renenyffenegger.ch/notes/tools/Google-Earth/kml/index\n",
    "\n",
    "Visualise the point in Google Maps using the following code example: https://developers.google.com/maps/documentation/javascript/examples/layer-kml-features\n",
    "You will have to create your own KML file for the custom map layer, and provide a URL to the KML file inside the JavaScript code, which means that you have to upload the file somewhere. You can use a service like http://pastebin.com/ to obtain a URL for your KML file —> paste the code there and request the RAW format URL; use this one in this Task1.\n",
    "\n",
    "Is KML a microformat, why (not)?"
   ]
  },
  {
   "cell_type": "markdown",
   "metadata": {},
   "source": [
    "<u><b>Answer</b></u> \n",
    "\n",
    "1. The TA told us to skip this exercise!\n",
    "2. KML is a file format used to display geographic data in an Earth browser such as Google Earth. Google Earth uses microformat. So, KML is a microformat!"
   ]
  },
  {
   "cell_type": "markdown",
   "metadata": {
    "id": "kUnka7EyeMJp"
   },
   "source": [
    "## Exercise 2 \n",
    "In order to find information in the web we can use microformats such as [hRecipe](https://microformats.org/wiki/hrecipe) or Schema.org's [Recipe](https://schema.org/Recipe). But first, we'll show you how to find arbitrary tags in a webpage.\n"
   ]
  },
  {
   "cell_type": "markdown",
   "metadata": {
    "id": "b0pBs-PVeMJq"
   },
   "source": [
    "### Task 2 \n",
    "Parsing data for a <sub><sup>veggie</sup></sub> spaghetti alla carbonara recipe (from Example 2-7 in Mining the Social Web)."
   ]
  },
  {
   "cell_type": "code",
   "execution_count": 13,
   "metadata": {
    "id": "mt9BK_CZeMJr"
   },
   "outputs": [],
   "source": [
    "import requests\n",
    "import json\n",
    "from bs4 import BeautifulSoup\n",
    "\n",
    "# A yummy webpage (feel free to change to your likings.)\n",
    "URL = \"https://www.acouplecooks.com/spring-vegetarian-spaghetti-carbonara/\"\n",
    "\n",
    "# requests will return the html found at the given webpage...\n",
    "page = requests.get(URL)\n",
    "# ...and a BeautifulSoup object can be created from its content.\n",
    "soup = BeautifulSoup(page.content, 'html.parser')\n",
    "\n",
    "listchildren = list(soup.children)\n",
    "#print(listchildren)"
   ]
  },
  {
   "cell_type": "markdown",
   "metadata": {
    "id": "IhdMwqykeMJt"
   },
   "source": [
    "We can find any element in the page through *css tag selectors*\n",
    "You can find them all [here](https://www.w3schools.com/cssref/css_selectors.asp), but shortly these are \".\" for classes, # for ids and plain text for the element name.\n",
    "\n",
    "\n",
    "You can also combine them, so that looking for \".class1.class2\" would select all elements displaying both classes. For a deeper overview please check the above link (or google \"html tag selectors\"). "
   ]
  },
  {
   "cell_type": "code",
   "execution_count": 14,
   "metadata": {
    "colab": {
     "base_uri": "https://localhost:8080/",
     "height": 71
    },
    "id": "PBaiK8OLeMJu",
    "outputId": "5b75f973-41c1-4ad4-fd9f-4f1f7665ba1d"
   },
   "outputs": [
    {
     "name": "stdout",
     "output_type": "stream",
     "text": [
      "2\n",
      "[<li><span data-amount=\"1\">1</span> pound spaghetti noodles</li>, <li><span data-amount=\"0.5\" data-unit=\"cup\">½ cup</span> smoked mozzarella cheese</li>, <li><span data-amount=\"0.5\" data-unit=\"cup\">½ cup</span> grated Parmesan cheese, plus more for serving</li>, <li><span data-amount=\"4\">4</span> egg yolks</li>, <li><span data-amount=\"1\" data-unit=\"cup\">1 cup</span> frozen Earthbound Farm Organic peas</li>, <li><span data-amount=\"8\" data-unit=\"cup\">8 cups</span> Earthbound Farm Organic spinach</li>, <li><span data-amount=\"3\" data-unit=\"tablespoon\">3 tablespoons</span> butter</li>, <li><a class=\"tasty-link\" data-tasty-links-no-disclosure=\"\" href=\"https://www.acouplecooks.com/what-is-kosher-salt/\" rel=\"noopener\" target=\"_blank\">Kosher salt</a></li>, <li>Fresh ground black pepper</li>]\n"
     ]
    }
   ],
   "source": [
    "print(len(listchildren)) # we can see here how many children the html doc has got.\n",
    "ingredients_unparsed = soup.select_one(\".tasty-recipes-ingredients\")\n",
    "# let's get all the \"list item\" elements in a list:\n",
    "ing_unp = ingredients_unparsed.findAll('li')\n",
    "print(ing_unp)"
   ]
  },
  {
   "cell_type": "markdown",
   "metadata": {
    "id": "tFXVPZhIeMJw"
   },
   "source": [
    "Mmmh... not so pretty yet. How about listing their items using the text method?"
   ]
  },
  {
   "cell_type": "code",
   "execution_count": 15,
   "metadata": {
    "colab": {
     "base_uri": "https://localhost:8080/",
     "height": 204
    },
    "id": "xASBZsnMeMJx",
    "outputId": "7af0f6e9-3b4f-4f34-e444-794087d06e25"
   },
   "outputs": [
    {
     "name": "stdout",
     "output_type": "stream",
     "text": [
      "Ingredients:\n",
      "\n",
      "1 pound spaghetti noodles\n",
      "½ cup smoked mozzarella cheese\n",
      "½ cup grated Parmesan cheese, plus more for serving\n",
      "4 egg yolks\n",
      "1 cup frozen Earthbound Farm Organic peas\n",
      "8 cups Earthbound Farm Organic spinach\n",
      "3 tablespoons butter\n",
      "Kosher salt\n",
      "Fresh ground black pepper\n"
     ]
    }
   ],
   "source": [
    "\n",
    "ingredients = [t.text for t in ing_unp]\n",
    "print(\"Ingredients:\\n\")\n",
    "# [print(i) for i in ingredients]  # Also prints the generator\n",
    "# Instead\n",
    "for ing in ingredients:\n",
    "    print(ing)"
   ]
  },
  {
   "cell_type": "markdown",
   "metadata": {
    "id": "O-RItVHyeMJz"
   },
   "source": [
    "Good. Now the instructions:"
   ]
  },
  {
   "cell_type": "code",
   "execution_count": 16,
   "metadata": {
    "colab": {
     "base_uri": "https://localhost:8080/",
     "height": 54
    },
    "id": "d-3Op4B6eMJ0",
    "outputId": "75a70f0c-86d3-4be9-d2d8-84df91c4f392"
   },
   "outputs": [
    {
     "name": "stdout",
     "output_type": "stream",
     "text": [
      "[<li id=\"instruction-step-1\">In a large pot, combine 6 quarts of water with 2 tablespoons <a class=\"tasty-link\" data-tasty-links-no-disclosure=\"\" href=\"https://www.acouplecooks.com/what-is-kosher-salt/\" rel=\"noopener\" target=\"_blank\">kosher salt</a> and bring it to a boil.</li>, <li id=\"instruction-step-2\">Grate the Parmesan and mozzarella cheese. Carefully separate four egg yolks and set aside.</li>, <li id=\"instruction-step-3\">Once boiling, add the pasta and cook until the pasta is just about al dente, about 7 minutes; then add peas and spinach and cook for 1 minute. Reserve 1 cup cooking water, and then drain the pasta and vegetables.</li>, <li id=\"instruction-step-4\">In a skillet, melt the butter, then stir in the cheeses, ¼ cup pasta water, and ¼ teaspoon <a class=\"tasty-link\" data-tasty-links-no-disclosure=\"\" href=\"https://www.acouplecooks.com/what-is-kosher-salt/\" rel=\"noopener\" target=\"_blank\">kosher salt</a>. Stir in the pasta and vegetables until creamy over low heat, adding more pasta water if necessary (note that the mozzarella will stick together in some places).</li>, <li id=\"instruction-step-5\">To serve, top each pasta serving with a whole egg yolk and additional Parmesan cheese, and stir the yolk into the pasta at the table (if you are uncomfortable serving egg yolks at the table, stir the egg yolks into the pasta in the skillet to heat them through). Serve immediately. (Note that the mozzarella cheese can become gummy the longer the pasta sits, so eat immediately if possible. Leftovers can be reheated in a skillet, but may not have the same creamy texture.)</li>]\n"
     ]
    }
   ],
   "source": [
    "instructions_unparsed = soup.select_one(\".tasty-recipes-instructions\")\n",
    "instructions_unparsed = instructions_unparsed.findAll(\"li\")\n",
    "print(instructions_unparsed)"
   ]
  },
  {
   "cell_type": "markdown",
   "metadata": {
    "id": "wPWXuglfeMJ2"
   },
   "source": [
    "Let's finish off with the title:"
   ]
  },
  {
   "cell_type": "code",
   "execution_count": 17,
   "metadata": {
    "colab": {
     "base_uri": "https://localhost:8080/",
     "height": 35
    },
    "id": "yg1TnWe2eMJ3",
    "outputId": "05d39a2e-3779-45f1-ddeb-9c6d2ae5f494"
   },
   "outputs": [
    {
     "data": {
      "text/plain": [
       "'Vegetarian Carbonara vegetarianJump to Recipeby Sonja OverhiserBuy Our Cookbook'"
      ]
     },
     "execution_count": 17,
     "metadata": {},
     "output_type": "execute_result"
    }
   ],
   "source": [
    "title_unparsed = soup.select_one(\".post-header\") # \n",
    "categorical_title = title_unparsed.text.split(\"›\") # website specific divider.\n",
    "recipe_title = categorical_title[-1].strip() # let's remove that ugly space at the beginning.\n",
    "recipe_title"
   ]
  },
  {
   "cell_type": "markdown",
   "metadata": {
    "id": "RYb6WtXYeMJ6"
   },
   "source": [
    "## Task 2.1\n",
    "Now it's your turn. Create a function that can scrape any recipe webpage from the same website (other websites will have different class tags). \n",
    "\n",
    "Make sure to:\n",
    "\n",
    "- return itemized content (e.g. ingredients) in a list. You may want to use a list comprehension here.\n",
    "- Not all items have been cleaned of their html markdown (see variables ```ingredients``` vs. ```instructions_unparsed```. Make sure to return a list with human readable content (i.e. by using the ```.text``` attribute).\n"
   ]
  },
  {
   "cell_type": "code",
   "execution_count": 18,
   "metadata": {
    "colab": {
     "base_uri": "https://localhost:8080/",
     "height": 54
    },
    "id": "UQu9ecLEeMJ6",
    "outputId": "a8aa0e14-a8fb-4279-cf32-8dca97ab3412"
   },
   "outputs": [
    {
     "name": "stdout",
     "output_type": "stream",
     "text": [
      "Mushroom Pasta with Goat CheeseJump to Recipeby Sonja OverhiserBuy Our Cookbook\n",
      "\n",
      "Ingredients:\n",
      "\n",
      "8 ounces bowtie pasta (farfalle)**\n",
      "8 ounces mixed mushrooms (such as baby bella aka cremini, button, shiitake, and oyster)\n",
      "¼ cup finely chopped fresh thyme and oregano\n",
      "2 tablespoons olive oil\n",
      "1 tablespoon fresh lemon juice\n",
      "3 cups baby greens: baby kale or spinach\n",
      "¼ cup Parmesan cheese, grated\n",
      "3 to 4 ounces soft goat cheese*\n",
      "Kosher salt and fresh ground pepper\n",
      "\n",
      "['Cook the pasta in heavily salted boiling water until al dente. Pro tip: Set the timer for a few minutes less than the package instructions and then taste: the pasta should be just done, still with some firmness. The pasta should also taste salty from the salted water. Drain the pasta and save out ¼ cup pasta water.', 'Meanwhile, clean the mushrooms, then slice them. Chop the herbs.', 'In a saute pan or skillet, heat the olive oil to medium high heat and cook the herbs, mushrooms, and several pinches of kosher salt together for about 5 minutes, stirring occasionally. When mushrooms are cooked and tender, reduce heat to low, add lemon juice, greens and few more pinches of\\xa0kosher salt. Cook for about 2 minutes until greens are wilted but bright green. Add the Parmesan cheese and pasta water and stir until cheese is melted.', 'Add the drained pasta into the mushrooms. Add fresh ground black pepper and kosher salt to taste. Use your fingers to break off crumbles of the goat cheese and add it to the pasta; stir them in if desired. Serve immediately.']\n"
     ]
    }
   ],
   "source": [
    "# -*- coding: utf-8 -*-\n",
    "\n",
    "import requests\n",
    "import json\n",
    "from bs4 import BeautifulSoup\n",
    "\n",
    "# Pass in a URL containing hRecipe, such as\n",
    "# https://www.jamieoliver.com/recipes/pasta-recipes/veggie-carbonara/\n",
    "\n",
    "URL = \"https://www.acouplecooks.com/mushroom-pasta-with-goat-cheese/\"#YOUR RECIPE HERE/\n",
    "\n",
    "# Parse out some of the pertinent information for a recipe.\n",
    "# See http://microformats.org/wiki/hrecipe.\n",
    "\n",
    "def parse_website(url):\n",
    "    page = requests.get(url)\n",
    "    soup = BeautifulSoup(page.content, 'html.parser')\n",
    "    \n",
    "    # You code here\n",
    "    # Parse header and get the title\n",
    "    title_unparsed = soup.select_one(\".post-header\") # \n",
    "    categorical_title = title_unparsed.text.split(\"›\") # website specific divider.\n",
    "    recipe_title = categorical_title[-1].strip() # let's remove that ugly space at the beginning.\n",
    "    fn = recipe_title\n",
    "\n",
    "    # Ingredients\n",
    "    ingredients_unparsed = soup.select_one(\".tasty-recipes-ingredients\")\n",
    "    # let's get all the \"list item\" elements in a list:\n",
    "    ing_unp = ingredients_unparsed.findAll('li')\n",
    "    ingredients = [t.text for t in ing_unp]\n",
    "\n",
    "    # Instructions\n",
    "    instructions_unparsed = soup.select_one(\".tasty-recipes-instructions\")\n",
    "    instructions_unparsed = instructions_unparsed.findAll(\"li\")\n",
    "    instructions = [t.text for t in instructions_unparsed]\n",
    "\n",
    "    return {\n",
    "            'name': fn,\n",
    "            'ingredients': ingredients,\n",
    "            'instructions': instructions,\n",
    "            }\n",
    "    \n",
    "recipe = parse_website(URL) \n",
    "print(f\"{recipe['name']}\\n\")\n",
    "\n",
    "print(\"Ingredients:\\n\")\n",
    "for ing in recipe[\"ingredients\"]:\n",
    "    print(ing)\n",
    "    \n",
    "print(f\"\\n{recipe['instructions']}\")"
   ]
  },
  {
   "cell_type": "markdown",
   "metadata": {
    "id": "ccURluAIeMJ8"
   },
   "source": [
    "But How can we get information not only from one website,  but from all? \n",
    "\n",
    "The answer: microformats.\n",
    "\n",
    "But rather than extracting with information manually from the schema.org or hRecipe microformats, we can use a package, ```scrape-schema-recipe``` \n",
    "\n",
    "Feel free to experiment with it. "
   ]
  },
  {
   "cell_type": "markdown",
   "metadata": {
    "id": "EBY-y_GreMJ8"
   },
   "source": [
    "### Task 2.2\n",
    "hRecipe is a microformat specifically created for recipes.\n",
    "Can you for example easily compare different dessert recipe ingredients? For inspiration you can look back at the exercises you did in Hands-on session 1 where you compared different sets of tweets."
   ]
  },
  {
   "cell_type": "markdown",
   "metadata": {},
   "source": [
    "<u><b>Answer</b></u> \n",
    "\n",
    "If the different desserts have the same format, then it's possible to compare the recipe ingredients of the desserts"
   ]
  },
  {
   "cell_type": "markdown",
   "metadata": {
    "id": "n-J8fiLbeMJ9"
   },
   "source": [
    "## Exercise 3"
   ]
  },
  {
   "cell_type": "markdown",
   "metadata": {
    "id": "7XBeqJHVeMJ9"
   },
   "source": [
    "Schema.org is one of the most widely used annotations formats. Schema.org is a multipurpose  template that has been created by a consortium consisting of Yahoo!, Google and Microsoft. It can describe entities, events, products etc. Check out the vocabulary specs on Schema.org."
   ]
  },
  {
   "cell_type": "markdown",
   "metadata": {
    "id": "fiw8JClyeMJ-"
   },
   "source": [
    "### Task 3\n",
    "\n",
    "Parsing schema.org microdata. To parse this data you need to install the rdflib-microdata package, which you have done in one of the previous steps.\n",
    "\n"
   ]
  },
  {
   "cell_type": "code",
   "execution_count": 22,
   "metadata": {
    "colab": {
     "base_uri": "https://localhost:8080/",
     "height": 153
    },
    "id": "X2zr3fOOeMJ-",
    "outputId": "d123f981-d73f-470f-b5e9-8735819f894b"
   },
   "outputs": [
    {
     "name": "stdout",
     "output_type": "stream",
     "text": [
      "http://dbpedia.org/resource/Micheal_Jackson http://dbpedia.org/ontology/wikiPageRedirects http://dbpedia.org/resource/Michael_Jackson\n",
      "http://dbpedia.org/resource/Micheal_Jackson http://www.w3.org/ns/prov#wasDerivedFrom http://en.wikipedia.org/wiki/Micheal_Jackson?oldid=1056738079&ns=0\n",
      "http://dbpedia.org/resource/Micheal_Jackson http://dbpedia.org/ontology/wikiPageID 14995602\n",
      "http://dbpedia.org/resource/Micheal_Jackson http://www.w3.org/2000/01/rdf-schema#label Micheal Jackson\n",
      "http://dbpedia.org/resource/Micheal_Jackson http://dbpedia.org/ontology/wikiPageRevisionID 1056738079\n",
      "http://dbpedia.org/resource/Micheal_Jackson http://xmlns.com/foaf/0.1/isPrimaryTopicOf http://en.wikipedia.org/wiki/Micheal_Jackson\n",
      "http://dbpedia.org/resource/Micheal_Jackson http://dbpedia.org/ontology/wikiPageWikiLink http://dbpedia.org/resource/Michael_Jackson\n",
      "http://dbpedia.org/resource/Micheal_Jackson http://dbpedia.org/ontology/wikiPageLength 68\n",
      "http://dbpedia.org/resource/Micheal_Jackson http://dbpedia.org/property/wikiPageUsesTemplate http://dbpedia.org/resource/Template:R_from_misspelling\n"
     ]
    }
   ],
   "source": [
    "from rdflib import Graph\n",
    "\n",
    "# Source: https://www.youtube.com/watch?v=sCU214rbRZ0\n",
    "# Pass in a URL containing Schema.org microformats\n",
    "URL = \"http://dbpedia.org/resource/Micheal_Jackson\"\n",
    "\n",
    "# Initialize a graph\n",
    "g = Graph()\n",
    "\n",
    "# Parse in an RDF file graph dbpedia\n",
    "result = g.parse(location=URL)\n",
    "\n",
    "# Loop through first 10 triples in the graph\n",
    "for index, (sub, pred, obj) in enumerate(g):\n",
    "    print(sub, pred, obj)\n",
    "    if index == 10:\n",
    "        break"
   ]
  },
  {
   "cell_type": "code",
   "execution_count": 23,
   "metadata": {
    "colab": {
     "base_uri": "https://localhost:8080/",
     "height": 34
    },
    "id": "hrQ2EuY5JAn1",
    "outputId": "eba60ebb-7ac5-4451-c16e-3f68e66af7f3"
   },
   "outputs": [
    {
     "name": "stdout",
     "output_type": "stream",
     "text": [
      "Graph has 9 facts\n"
     ]
    }
   ],
   "source": [
    "# Print the size of the Graph\n",
    "print(f'Graph has {len(g)} facts')"
   ]
  },
  {
   "cell_type": "code",
   "execution_count": 24,
   "metadata": {
    "colab": {
     "base_uri": "https://localhost:8080/",
     "height": 323
    },
    "id": "IAO1JllwJMqO",
    "outputId": "08f5e32d-d1a6-4a30-878a-ce7b768a8811"
   },
   "outputs": [
    {
     "name": "stdout",
     "output_type": "stream",
     "text": [
      "@prefix ns1: <http://dbpedia.org/ontology/> .\n",
      "@prefix ns2: <http://www.w3.org/ns/prov#> .\n",
      "@prefix ns3: <http://xmlns.com/foaf/0.1/> .\n",
      "@prefix ns4: <http://dbpedia.org/property/> .\n",
      "@prefix rdfs: <http://www.w3.org/2000/01/rdf-schema#> .\n",
      "@prefix xsd: <http://www.w3.org/2001/XMLSchema#> .\n",
      "\n",
      "<http://dbpedia.org/resource/Micheal_Jackson> rdfs:label \"Micheal Jackson\"@en ;\n",
      "    ns1:wikiPageID 14995602 ;\n",
      "    ns1:wikiPageLength \"68\"^^xsd:nonNegativeInteger ;\n",
      "    ns1:wikiPageRedirects <http://dbpedia.org/resource/Michael_Jackson> ;\n",
      "    ns1:wikiPageRevisionID 1056738079 ;\n",
      "    ns1:wikiPageWikiLink <http://dbpedia.org/resource/Michael_Jackson> ;\n",
      "    ns4:wikiPageUsesTemplate <http://dbpedia.org/resource/Template:R_from_misspelling> ;\n",
      "    ns2:wasDerivedFrom <http://en.wikipedia.org/wiki/Micheal_Jackson?oldid=1056738079&ns=0> ;\n",
      "    ns3:isPrimaryTopicOf <http://en.wikipedia.org/wiki/Micheal_Jackson> .\n",
      "\n",
      "\n"
     ]
    }
   ],
   "source": [
    "# Print out the entire Graph in the RDF Turtle format\n",
    "print(g.serialize(format='ttl'))"
   ]
  },
  {
   "cell_type": "markdown",
   "metadata": {
    "id": "dzbynasAeMKA"
   },
   "source": [
    "### Task 3.1 \n",
    "Compare the schema.org information about a band on last.fm to the Facebook Open Graph information about the same band from Facebook. What are the differences? Which format do you think supports better interoperability?"
   ]
  },
  {
   "cell_type": "markdown",
   "metadata": {},
   "source": [
    "<u><b>Answer</b></u> \n",
    "\n",
    "The link to the last.fm page for the band Coldplay is: https://www.last.fm/music/Coldplay\n",
    "\n",
    "We found that on last.fm, which uses schema.org, there is more structure in the data/information about the band. The facebook open graph information doesn't really show structure and are just tags that can be used anywhere on facebook.\n",
    "\n",
    "We think that the last.fm supports better interoperability. This is because the stucture of last.fm makes it able for different systems or applications to connect and communicate in a coordinated way with the website."
   ]
  },
  {
   "cell_type": "markdown",
   "metadata": {
    "id": "Nocs4YDPeMKB"
   },
   "source": [
    "### Task 3.2\n",
    "Explore the various microformats at http://microformats.org/ and compare the output of the exercises with the output of http://microformats.org/. Think about possible microformats you want to support in your final assignment and read up on how to parse them."
   ]
  },
  {
   "cell_type": "markdown",
   "metadata": {},
   "source": [
    "<u><b>Answer</b></u> \n",
    "\n",
    "When looking at the output of exercise 3, we see that the format of the output is similar to the microformat h-card. hCard is an easy format for presenting contact detail for people, places, companies and other organizations. This is exactly what, for example, last.fm uses for the band Coldplay."
   ]
  }
 ],
 "metadata": {
  "colab": {
   "collapsed_sections": [],
   "name": "Hands-on_2_microformats.ipynb",
   "provenance": [],
   "toc_visible": true
  },
  "kernelspec": {
   "display_name": "Python 3",
   "language": "python",
   "name": "python3"
  },
  "language_info": {
   "codemirror_mode": {
    "name": "ipython",
    "version": 3
   },
   "file_extension": ".py",
   "mimetype": "text/x-python",
   "name": "python",
   "nbconvert_exporter": "python",
   "pygments_lexer": "ipython3",
   "version": "3.8.3"
  }
 },
 "nbformat": 4,
 "nbformat_minor": 1
}
