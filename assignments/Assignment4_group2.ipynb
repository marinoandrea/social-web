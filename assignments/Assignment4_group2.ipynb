{
 "cells": [
  {
   "cell_type": "markdown",
   "metadata": {},
   "source": [
    "*****************************************************\n",
    "# The Social Web Assignment 4: Recommendation\n",
    "\n",
    "- Instructors: Davide Ceolin.\n",
    "- TAs: Jacco van Ossenbruggen, Elena Beretta, Mirthe Dankloff.\n",
    "- Exercises for Hands-on session 4 \n",
    "*****************************************************\n",
    "\n",
    "In this notebook you will use the similarity measures to provide recommendations by comparing users and content based on expressed preferences (ratings). You will also explore textual similarity using a very popular natural language processing library, NLTK. Finally, you will explore recommendations on the Reddit platform."
   ]
  },
  {
   "cell_type": "markdown",
   "metadata": {},
   "source": [
    "Required packages:\n",
    "* feedparser, praw,  nltk"
   ]
  },
  {
   "cell_type": "code",
   "execution_count": 1,
   "metadata": {
    "scrolled": true
   },
   "outputs": [
    {
     "name": "stdout",
     "output_type": "stream",
     "text": [
      "Requirement already satisfied: feedparser in /opt/anaconda3/lib/python3.8/site-packages (6.0.10)\n",
      "Requirement already satisfied: sgmllib3k in /opt/anaconda3/lib/python3.8/site-packages (from feedparser) (1.0.0)\n",
      "\u001b[33mWARNING: You are using pip version 22.0.4; however, version 22.3.1 is available.\n",
      "You should consider upgrading via the '/opt/anaconda3/bin/python -m pip install --upgrade pip' command.\u001b[0m\u001b[33m\n",
      "\u001b[0mRequirement already satisfied: praw in /opt/anaconda3/lib/python3.8/site-packages (7.6.1)\n",
      "Requirement already satisfied: prawcore<3,>=2.1 in /opt/anaconda3/lib/python3.8/site-packages (from praw) (2.3.0)\n",
      "Requirement already satisfied: websocket-client>=0.54.0 in /opt/anaconda3/lib/python3.8/site-packages (from praw) (1.4.2)\n",
      "Requirement already satisfied: update-checker>=0.18 in /opt/anaconda3/lib/python3.8/site-packages (from praw) (0.18.0)\n",
      "Requirement already satisfied: requests<3.0,>=2.6.0 in /opt/anaconda3/lib/python3.8/site-packages (from prawcore<3,>=2.1->praw) (2.24.0)\n",
      "Requirement already satisfied: idna<3,>=2.5 in /opt/anaconda3/lib/python3.8/site-packages (from requests<3.0,>=2.6.0->prawcore<3,>=2.1->praw) (2.10)\n",
      "Requirement already satisfied: chardet<4,>=3.0.2 in /opt/anaconda3/lib/python3.8/site-packages (from requests<3.0,>=2.6.0->prawcore<3,>=2.1->praw) (3.0.4)\n",
      "Requirement already satisfied: urllib3!=1.25.0,!=1.25.1,<1.26,>=1.21.1 in /opt/anaconda3/lib/python3.8/site-packages (from requests<3.0,>=2.6.0->prawcore<3,>=2.1->praw) (1.25.9)\n",
      "Requirement already satisfied: certifi>=2017.4.17 in /opt/anaconda3/lib/python3.8/site-packages (from requests<3.0,>=2.6.0->prawcore<3,>=2.1->praw) (2020.6.20)\n",
      "\u001b[33mWARNING: You are using pip version 22.0.4; however, version 22.3.1 is available.\n",
      "You should consider upgrading via the '/opt/anaconda3/bin/python -m pip install --upgrade pip' command.\u001b[0m\u001b[33m\n",
      "\u001b[0mRequirement already satisfied: nltk in /opt/anaconda3/lib/python3.8/site-packages (3.5)\n",
      "Requirement already satisfied: regex in /opt/anaconda3/lib/python3.8/site-packages (from nltk) (2020.6.8)\n",
      "Requirement already satisfied: tqdm in /opt/anaconda3/lib/python3.8/site-packages (from nltk) (4.47.0)\n",
      "Requirement already satisfied: joblib in /opt/anaconda3/lib/python3.8/site-packages (from nltk) (0.16.0)\n",
      "Requirement already satisfied: click in /opt/anaconda3/lib/python3.8/site-packages (from nltk) (7.1.2)\n",
      "\u001b[33mWARNING: You are using pip version 22.0.4; however, version 22.3.1 is available.\n",
      "You should consider upgrading via the '/opt/anaconda3/bin/python -m pip install --upgrade pip' command.\u001b[0m\u001b[33m\n",
      "\u001b[0m"
     ]
    }
   ],
   "source": [
    "import sys\n",
    "\n",
    "!pip install feedparser\n",
    "!pip install praw\n",
    "!pip install nltk"
   ]
  },
  {
   "cell_type": "markdown",
   "metadata": {},
   "source": [
    "In the snippets below, you can find:\n",
    "* creation of a small toy database in form of a dictionary of dictionaries;\n",
    "* issuing several similarity measures based on critics' preferences; and\n",
    "* use those values to obtain meaningful statistics pertaining a user."
   ]
  },
  {
   "cell_type": "markdown",
   "metadata": {},
   "source": [
    "# Movie preferences of movie critics\n",
    "As example data, let us define a python dictionary of movie critics and their ratings of a small set of movies\n"
   ]
  },
  {
   "cell_type": "code",
   "execution_count": 2,
   "metadata": {},
   "outputs": [],
   "source": [
    "critics = {\n",
    "    'Lisa Rose': {\n",
    "        'Lady in the Water': 2.5,\n",
    "        'Snakes on a Plane': 3.5,\n",
    "        'Just My Luck': 3.0,\n",
    "        'Superman Returns': 3.5,\n",
    "        'You, Me and Dupree': 2.5,\n",
    "        'The Night Listener': 3.0,\n",
    "    },\n",
    "    'Gene Seymour': {\n",
    "        'Lady in the Water': 3.0,\n",
    "        'Snakes on a Plane': 3.5,\n",
    "        'Just My Luck': 1.5,\n",
    "        'Superman Returns': 5.0,\n",
    "        'The Night Listener': 3.0,\n",
    "        'You, Me and Dupree': 3.5,\n",
    "    },\n",
    "    'Michael Phillips': {\n",
    "        'Lady in the Water': 2.5,\n",
    "        'Snakes on a Plane': 3.0,\n",
    "        'Superman Returns': 3.5,\n",
    "        'The Night Listener': 4.0,\n",
    "    },\n",
    "    'Claudia Puig': {\n",
    "        'Snakes on a Plane': 3.5,\n",
    "        'Just My Luck': 3.0,\n",
    "        'The Night Listener': 4.5,\n",
    "        'Superman Returns': 4.0,\n",
    "        'You, Me and Dupree': 2.5,\n",
    "    },\n",
    "    'Mick LaSalle': {\n",
    "        'Lady in the Water': 3.0,\n",
    "        'Snakes on a Plane': 4.0,\n",
    "        'Just My Luck': 2.0,\n",
    "        'Superman Returns': 3.0,\n",
    "        'The Night Listener': 3.0,\n",
    "        'You, Me and Dupree': 2.0,\n",
    "    },\n",
    "    'Jack Matthews': {\n",
    "        'Lady in the Water': 3.0,\n",
    "        'Snakes on a Plane': 4.0,\n",
    "        'The Night Listener': 3.0,\n",
    "        'Superman Returns': 5.0,\n",
    "        'You, Me and Dupree': 3.5,\n",
    "    },\n",
    "    'Toby': {'Snakes on a Plane': 4.5, \n",
    "             'You, Me and Dupree': 1.0,\n",
    "             'Superman Returns': 4.0},\n",
    "}"
   ]
  },
  {
   "cell_type": "markdown",
   "metadata": {},
   "source": [
    "# **Exercise 1: Finding Similar Users**\n",
    "\n",
    "In the code below, two different simililarity measures are used: Euclidean distance and the Pearson correlation. If you are not familiar with them, we recommend you look them up to deepen your understanding."
   ]
  },
  {
   "cell_type": "markdown",
   "metadata": {},
   "source": [
    "## Euclidian distance"
   ]
  },
  {
   "attachments": {
    "image.png": {
     "image/png": "[encoded data removed]"
    }
   },
   "cell_type": "markdown",
   "metadata": {},
   "source": [
    "To assess the degree similarity between critics given their respective preferences, we can use the euclidian distance.\n",
    "Its formula for an N-dimensional space is is: ![image.png](attachment:image.png)\n",
    "Because we want a smaller distance to indicate a larger similarity, we will use 1/d(p,q) as our similarity value:"
   ]
  },
  {
   "cell_type": "code",
   "execution_count": 6,
   "metadata": {},
   "outputs": [],
   "source": [
    "from math import sqrt\n",
    "\n",
    "def sim_distance(p1, p2, show_common_dims=False, prefs=critics):\n",
    "    '''\n",
    "    Returns a distance-based similarity score between two critics.\n",
    "    '''\n",
    "\n",
    "    # Get the list of shared_items\n",
    "    common_items = []\n",
    "    for movie in prefs[p1]:\n",
    "        if movie in prefs[p2]:\n",
    "            common_items.append(movie)\n",
    "    # If they have no ratings in common, return 0\n",
    "    if len(common_items) == 0:\n",
    "        return 0\n",
    "    if show_common_dims:\n",
    "        print(\"common dimensions between {} and {}: \".format(p1, p2) + str(len(common_items)))\n",
    "    # Add up the squares of all the differences\n",
    "    sum_of_squares = sum([pow(prefs[p1][movie] - prefs[p2][movie], 2) for movie in common_items])\n",
    "    \n",
    "    # return sqrt(sum_of_squares)\n",
    "    return 1 / sqrt(sum_of_squares)"
   ]
  },
  {
   "cell_type": "markdown",
   "metadata": {},
   "source": [
    "Using this simple formula, you can calculate a similarity between two critics:"
   ]
  },
  {
   "cell_type": "code",
   "execution_count": 7,
   "metadata": {},
   "outputs": [
    {
     "data": {
      "text/plain": [
       "0.41702882811414954"
      ]
     },
     "execution_count": 7,
     "metadata": {},
     "output_type": "execute_result"
    }
   ],
   "source": [
    "# get the distance between 'Lisa Rose' and 'Gene Seymour'\n",
    "sim_distance('Lisa Rose','Gene Seymour') "
   ]
  },
  {
   "cell_type": "markdown",
   "metadata": {},
   "source": [
    "Try this with other names so you can see who is closer or further."
   ]
  },
  {
   "cell_type": "code",
   "execution_count": 11,
   "metadata": {},
   "outputs": [
    {
     "name": "stdout",
     "output_type": "stream",
     "text": [
      "2.0\n",
      "0.5163977794943222\n",
      "0.4\n"
     ]
    }
   ],
   "source": [
    "print(sim_distance('Gene Seymour','Jack Matthews'))\n",
    "print(sim_distance('Lisa Rose','Jack Matthews'))\n",
    "print(sim_distance('Mick LaSalle','Jack Matthews'))"
   ]
  },
  {
   "cell_type": "markdown",
   "metadata": {},
   "source": [
    "Name at least two problems with the sim_distance function as it is defined above. "
   ]
  },
  {
   "cell_type": "markdown",
   "metadata": {},
   "source": [
    "Answer:\n",
    "Problems:\n",
    "1. Critics having the same rating will result in no outcome.\n",
    "2. Each pair of critics needs to be inserted, which takes a lot of time. It would be a more helpful function if this could be done automatically.\n",
    "    "
   ]
  },
  {
   "attachments": {
    "image.png": {
     "image/png": "[encoded data removed]"
    }
   },
   "cell_type": "markdown",
   "metadata": {},
   "source": [
    "A different measure of similarity can be given by pearson correlation.\n",
    "Which follows: ![image.png](attachment:image.png)\n",
    "\n",
    "Where the dividend represents a measure of covariance between dimensions, whereas the divisor is the product of the standard deviation of the scores given by each user."
   ]
  },
  {
   "cell_type": "code",
   "execution_count": 12,
   "metadata": {},
   "outputs": [],
   "source": [
    "def sim_pearson(p1, p2, prefs=critics, verbose=False):\n",
    "    '''\n",
    "    Returns the Pearson correlation coefficient for p1 and p2.\n",
    "    '''\n",
    "\n",
    "    '''Step 1: Get the list of mutually rated items'''\n",
    "    common_items = []\n",
    "    dic = {}\n",
    "    for movie in prefs[p1]:\n",
    "        if movie in prefs[p2]:\n",
    "            common_items.append(movie)\n",
    "    # If they are no ratings in common, return 0\n",
    "    if len(common_items) == 0:\n",
    "        return 0\n",
    "    '''Step 2: Sum calculations'''\n",
    "    n_common_items = len(common_items)\n",
    "    sum1 = sum([prefs[p1][movie] for movie in common_items])\n",
    "    sum2 = sum([prefs[p2][movie] for movie in common_items])\n",
    "    # Sums of squares\n",
    "    sum1Sq = sum([pow(prefs[p1][movie], 2) for movie in common_items])\n",
    "    sum2Sq = sum([pow(prefs[p2][movie], 2) for movie in common_items])\n",
    "    # Sum of the products\n",
    "    pSum = sum([prefs[p1][movie] * prefs[p2][movie] for movie in common_items])\n",
    "    # Calculate r (Pearson score)\n",
    "    num = pSum - sum1 * sum2 / n_common_items\n",
    "    den = sqrt((sum1Sq - pow(sum1, 2) / n_common_items) * (sum2Sq - pow(sum2, 2) / n_common_items))\n",
    "    if den == 0:\n",
    "        return 0\n",
    "    r = num / den\n",
    "    if verbose:\n",
    "        print(\"common dimensions: %s\" % len(common_items))\n",
    "        print(\"Similarity Score for {} and {}: {}\".format(p1, p2, r))\n",
    "    return r\n",
    "\n",
    "# for k in critics.keys():\n",
    "#     sim_pearson('Michael Phillips', k, verbose=True)"
   ]
  },
  {
   "cell_type": "markdown",
   "metadata": {},
   "source": [
    "Try the examples you used for the eucledian distance again, but now using the pearson correlation:"
   ]
  },
  {
   "cell_type": "code",
   "execution_count": 13,
   "metadata": {},
   "outputs": [
    {
     "data": {
      "text/plain": [
       "0.39605901719066977"
      ]
     },
     "execution_count": 13,
     "metadata": {},
     "output_type": "execute_result"
    }
   ],
   "source": [
    "sim_pearson('Lisa Rose','Gene Seymour')"
   ]
  },
  {
   "cell_type": "markdown",
   "metadata": {},
   "source": [
    "### Ranking critics on similarity\n",
    "The topMatches function below calculates all similarities of a given critic with his peers:"
   ]
  },
  {
   "cell_type": "code",
   "execution_count": 14,
   "metadata": {},
   "outputs": [],
   "source": [
    "def topMatches(person, n=5, similarity=sim_pearson, prefs=critics):\n",
    "    '''\n",
    "    Returns the best matches for person from the prefs dictionary. \n",
    "    Number of results and similarity function are optional params.\n",
    "    '''\n",
    "    if similarity not in [sim_distance, sim_pearson]:\n",
    "        # NB: here we are comparing FUNCTION DEFINITION.\n",
    "        # We do that only in a jupyter notebook for the sake of simplicity.\n",
    "        raise ValueError(\"Callback functions should be: 'sim_pearson' or 'sim_distance'.\")\n",
    "        \n",
    "    scores = [(similarity(person, other, prefs=prefs), other) for other in prefs\n",
    "              if other != person]\n",
    "    scores.sort()\n",
    "    scores.reverse()\n",
    "    return scores[0:n]"
   ]
  },
  {
   "cell_type": "markdown",
   "metadata": {},
   "source": [
    "So you can now get the 3 critics closest to Toby by calling:"
   ]
  },
  {
   "cell_type": "code",
   "execution_count": 15,
   "metadata": {},
   "outputs": [
    {
     "data": {
      "text/plain": [
       "[(0.9912407071619299, 'Lisa Rose'),\n",
       " (0.9244734516419049, 'Mick LaSalle'),\n",
       " (0.8934051474415647, 'Claudia Puig')]"
      ]
     },
     "execution_count": 15,
     "metadata": {},
     "output_type": "execute_result"
    }
   ],
   "source": [
    "topMatches('Toby',n=3)"
   ]
  },
  {
   "cell_type": "markdown",
   "metadata": {},
   "source": [
    "*****************************************************\n",
    "### Task: Effect of similarity function used\n",
    "Call the topMatches function on a number of critics with both the default sim_pearson, but also with the sim_distance function. Would you have preference of one over the other? \n",
    "*****************************************************"
   ]
  },
  {
   "cell_type": "code",
   "execution_count": 16,
   "metadata": {},
   "outputs": [
    {
     "data": {
      "text/plain": [
       "[(0.9912407071619299, 'Lisa Rose'),\n",
       " (0.9244734516419049, 'Mick LaSalle'),\n",
       " (0.8934051474415647, 'Claudia Puig'),\n",
       " (0.66284898035987, 'Jack Matthews'),\n",
       " (0.38124642583151164, 'Gene Seymour'),\n",
       " (-1.0, 'Michael Phillips')]"
      ]
     },
     "execution_count": 16,
     "metadata": {},
     "output_type": "execute_result"
    }
   ],
   "source": [
    "topMatches('Mick LaSalle',n=6)#simpearson\n",
    "topMatches('Toby',n=6)#simpearson"
   ]
  },
  {
   "cell_type": "code",
   "execution_count": 17,
   "metadata": {},
   "outputs": [
    {
     "data": {
      "text/plain": [
       "[(0.6666666666666666, 'Mick LaSalle'),\n",
       " (0.6324555320336759, 'Michael Phillips'),\n",
       " (0.5547001962252291, 'Claudia Puig'),\n",
       " (0.5345224838248488, 'Lisa Rose'),\n",
       " (0.3651483716701107, 'Jack Matthews'),\n",
       " (0.3481553119113957, 'Gene Seymour')]"
      ]
     },
     "execution_count": 17,
     "metadata": {},
     "output_type": "execute_result"
    }
   ],
   "source": [
    "topMatches('Mick LaSalle',n=6, similarity=sim_distance)\n",
    "topMatches('Toby',n=6, similarity=sim_distance)"
   ]
  },
  {
   "cell_type": "markdown",
   "metadata": {},
   "source": [
    "Answer: \n",
    "\n",
    "The simpearson similarity function shows more variation in the distances between critics, therefore we would prefer simpearson."
   ]
  },
  {
   "cell_type": "markdown",
   "metadata": {},
   "source": [
    "### **Exercise 2: Recommending Items**\n",
    "\n",
    "One way to recommend movies to a person would be to rate the movies she has not seen yet by using the scores of the others weighted by the similarity."
   ]
  },
  {
   "cell_type": "code",
   "execution_count": 18,
   "metadata": {},
   "outputs": [],
   "source": [
    "def getRecommendations(person, similarity=sim_pearson, prefs=critics):\n",
    "    '''\n",
    "    Gets recommendations for a person by using a weighted average\n",
    "    of every other user's rankings\n",
    "    '''\n",
    "    if similarity not in [sim_distance, sim_pearson]:\n",
    "        raise ValueError(\"Callback functions should be: 'sim_pearson' or 'sim_distance'.\")\n",
    "\n",
    "    totals = {}\n",
    "    simSums = {}\n",
    "    for other in prefs:\n",
    "    # Don't compare me to myself\n",
    "        if other == person:\n",
    "            continue\n",
    "        sim = similarity(person, other, prefs=prefs)\n",
    "    # Ignore scores of zero or lower\n",
    "        if sim <= 0: \n",
    "            continue\n",
    "        for item in prefs[other]:\n",
    "            # Only score movies I haven't seen yet\n",
    "            if item not in prefs[person] or prefs[person][item] == 0:\n",
    "                # Similarity * Score\n",
    "                    totals.setdefault(item, 0)\n",
    "                    # The final score is calculated by multiplying each item by the\n",
    "                    #   similarity and adding these products together\n",
    "                    totals[item] += prefs[other][item] * sim\n",
    "                    # Sum of similarities\n",
    "                    simSums.setdefault(item, 0)\n",
    "                    simSums[item] += sim\n",
    "    # Create the normalized list\n",
    "    rankings = [(total / simSums[item], item) for (item, total) in\n",
    "                totals.items()]\n",
    "    # Return the sorted list\n",
    "    rankings.sort()\n",
    "    rankings.reverse()\n",
    "    return rankings"
   ]
  },
  {
   "cell_type": "code",
   "execution_count": 19,
   "metadata": {},
   "outputs": [
    {
     "data": {
      "text/plain": [
       "[(3.4721701369256524, 'The Night Listener'),\n",
       " (2.7709066207646793, 'Lady in the Water'),\n",
       " (2.4349456273856207, 'Just My Luck')]"
      ]
     },
     "execution_count": 19,
     "metadata": {},
     "output_type": "execute_result"
    }
   ],
   "source": [
    "getRecommendations('Toby', similarity=sim_distance)"
   ]
  },
  {
   "cell_type": "code",
   "execution_count": 20,
   "metadata": {},
   "outputs": [
    {
     "data": {
      "text/plain": [
       "[(3.3477895267131017, 'The Night Listener'),\n",
       " (2.8325499182641614, 'Lady in the Water'),\n",
       " (2.530980703765565, 'Just My Luck')]"
      ]
     },
     "execution_count": 20,
     "metadata": {},
     "output_type": "execute_result"
    }
   ],
   "source": [
    "getRecommendations('Toby')"
   ]
  },
  {
   "cell_type": "markdown",
   "metadata": {},
   "source": [
    "Note that the output does not only consist of a movie title, but also a guess at what the user's rating for each movie would be.\n",
    "\n",
    "*****************************************************\n",
    "### Task: Explainable recommendations\n",
    "Can you also find out how to give information on how the recommendation is built up. For example about the 'closest' person that also watched this movie?\n",
    "*****************************************************"
   ]
  },
  {
   "cell_type": "code",
   "execution_count": 27,
   "metadata": {},
   "outputs": [
    {
     "name": "stdout",
     "output_type": "stream",
     "text": [
      "the closest person to Jack Matthews:  Toby\n",
      "the similarity of Toby to Jack Matthews:  0.66284898035987\n"
     ]
    },
    {
     "data": {
      "text/plain": [
       "[(2.150559004463025, 'Just My Luck')]"
      ]
     },
     "execution_count": 27,
     "metadata": {},
     "output_type": "execute_result"
    }
   ],
   "source": [
    "#still need to do:\n",
    "#this is the code of the getrecommendations function:\n",
    "#need to implement For example about the 'closest' person that also watched this movie?\n",
    "def ExplainableRecommendations(person, similarity=sim_pearson, prefs=critics):\n",
    "    '''\n",
    "    Gets recommendations for a person by using a weighted average\n",
    "    of every other user's rankings\n",
    "    '''\n",
    "    if similarity not in [sim_distance, sim_pearson]:\n",
    "        raise ValueError(\"Callback functions should be: 'sim_pearson' or 'sim_distance'.\")\n",
    "\n",
    "    totals = {}\n",
    "    simSums = {}\n",
    "    \n",
    "    # get the first person that is the closest person\n",
    "    pref_list = list(prefs)\n",
    "    closest_person = pref_list[pref_list.index(person) + 1]\n",
    "    print(f\"the closest person to {person}: \",closest_person)\n",
    "    sim = similarity(person, closest_person, prefs=prefs)\n",
    "    print(f\"the similarity of {closest_person} to {person}: \",sim)\n",
    "    \n",
    "    for other in prefs:\n",
    "    # Don't compare me to myself\n",
    "        if other == person:\n",
    "            continue\n",
    "        sim = similarity(person, other, prefs=prefs)\n",
    "    # Ignore scores of zero or lower\n",
    "        if sim <= 0: \n",
    "            continue      \n",
    "    \n",
    "        for item in prefs[other]:\n",
    "            # Only score movies I haven't seen yet\n",
    "            if item not in prefs[person] or prefs[person][item] == 0:\n",
    "                # Similarity * Score\n",
    "                    totals.setdefault(item, 0)\n",
    "                    # The final score is calculated by multiplying each item by the\n",
    "                    #   similarity and adding these products together\n",
    "                    totals[item] += prefs[other][item] * sim\n",
    "                    # Sum of similarities\n",
    "                    simSums.setdefault(item, 0)\n",
    "                    simSums[item] += sim\n",
    "                    \n",
    "    # Create the normalized list\n",
    "    rankings = [(total / simSums[item], item) for (item, total) in\n",
    "                totals.items()]\n",
    "    # Return the sorted list\n",
    "    rankings.sort()\n",
    "    rankings.reverse()\n",
    "    return rankings\n",
    "\n",
    "ExplainableRecommendations('Jack Matthews')"
   ]
  },
  {
   "cell_type": "markdown",
   "metadata": {},
   "source": [
    "### **Exercise 3: Transformations** \n",
    "**You have been building recommendations based on similar users in Exercise 2, but you could of course also build recommendations based on similar items. In this exercise you will do this.** \n",
    "\n",
    "The function is essentially the same, but you need to transfer your data, from:\n",
    "\n",
    "<code>{'Lisa Rose': {'Lady in the Water': 2.5, 'Snakes on a Plane': 3.5},\n",
    "'Gene Seymour': {'Lady in the Water': 3.0, 'Snakes on a Plane': 3.5}}</code>\n",
    "\n",
    "to\n",
    "\n",
    "<code>{'Lady in the Water': {'Lisa Rose': 2.5,'Gene Seymour': 3.0},\n",
    "'Snakes on a Plane': {'Lisa Rose': 3.5,'Gene Seymour': 3.5}}</code>\n",
    "\n",
    "This is what the transformPrefs function does. \n",
    "\n",
    "You can now create a dictionary for movies with their scores assigned by different people by invoking:"
   ]
  },
  {
   "cell_type": "code",
   "execution_count": 28,
   "metadata": {},
   "outputs": [],
   "source": [
    "def transformPrefs(prefs=critics):\n",
    "    '''\n",
    "    Transform the recommendations into a mapping where persons are described\n",
    "    with interest scores for a given title e.g. {title: person} instead of\n",
    "    {person: title}.\n",
    "    '''\n",
    "    result = {}\n",
    "    for person in prefs:\n",
    "        for item in prefs[person]:\n",
    "            result.setdefault(item, {})\n",
    "            # Flip item and person\n",
    "            result[item][person] = prefs[person][item]\n",
    "    return result"
   ]
  },
  {
   "cell_type": "code",
   "execution_count": 29,
   "metadata": {},
   "outputs": [
    {
     "name": "stdout",
     "output_type": "stream",
     "text": [
      "{'Lady in the Water': {'Lisa Rose': 2.5, 'Gene Seymour': 3.0, 'Michael Phillips': 2.5, 'Mick LaSalle': 3.0, 'Jack Matthews': 3.0}, 'Snakes on a Plane': {'Lisa Rose': 3.5, 'Gene Seymour': 3.5, 'Michael Phillips': 3.0, 'Claudia Puig': 3.5, 'Mick LaSalle': 4.0, 'Jack Matthews': 4.0, 'Toby': 4.5}, 'Just My Luck': {'Lisa Rose': 3.0, 'Gene Seymour': 1.5, 'Claudia Puig': 3.0, 'Mick LaSalle': 2.0}, 'Superman Returns': {'Lisa Rose': 3.5, 'Gene Seymour': 5.0, 'Michael Phillips': 3.5, 'Claudia Puig': 4.0, 'Mick LaSalle': 3.0, 'Jack Matthews': 5.0, 'Toby': 4.0}, 'You, Me and Dupree': {'Lisa Rose': 2.5, 'Gene Seymour': 3.5, 'Claudia Puig': 2.5, 'Mick LaSalle': 2.0, 'Jack Matthews': 3.5, 'Toby': 1.0}, 'The Night Listener': {'Lisa Rose': 3.0, 'Gene Seymour': 3.0, 'Michael Phillips': 4.0, 'Claudia Puig': 4.5, 'Mick LaSalle': 3.0, 'Jack Matthews': 3.0}}\n"
     ]
    }
   ],
   "source": [
    "movies = transformPrefs()\n",
    "print(movies)"
   ]
  },
  {
   "cell_type": "markdown",
   "metadata": {},
   "source": [
    "And find similar items for a particular movie like this:"
   ]
  },
  {
   "cell_type": "code",
   "execution_count": 30,
   "metadata": {},
   "outputs": [
    {
     "data": {
      "text/plain": [
       "[(0.6579516949597695, 'You, Me and Dupree'),\n",
       " (0.4879500364742689, 'Lady in the Water'),\n",
       " (0.11180339887498941, 'Snakes on a Plane'),\n",
       " (-0.1798471947990544, 'The Night Listener'),\n",
       " (-0.42289003161103106, 'Just My Luck')]"
      ]
     },
     "execution_count": 30,
     "metadata": {},
     "output_type": "execute_result"
    }
   ],
   "source": [
    "topMatches('Superman Returns', prefs=movies)"
   ]
  },
  {
   "cell_type": "markdown",
   "metadata": {},
   "source": [
    "Or find people who may like a particular movie:"
   ]
  },
  {
   "cell_type": "code",
   "execution_count": 31,
   "metadata": {},
   "outputs": [
    {
     "data": {
      "text/plain": [
       "[(4.0, 'Michael Phillips'), (3.0, 'Jack Matthews')]"
      ]
     },
     "execution_count": 31,
     "metadata": {},
     "output_type": "execute_result"
    }
   ],
   "source": [
    "getRecommendations('Just My Luck', prefs=movies)"
   ]
  },
  {
   "cell_type": "markdown",
   "metadata": {},
   "source": [
    "*****************************************************\n",
    "#### Task: why does the example above work?\n",
    "Try to follow exactly what is going on in the last call. Notice that Michael and Jack did not rate 'Just my Luck'. How is their rating for it built up?\n",
    "*****************************************************"
   ]
  },
  {
   "cell_type": "markdown",
   "metadata": {},
   "source": [
    "Answer:\n",
    "\n",
    "A prediction is provided by the function getRecommendations. To get a prediction, the function multiplies similarity and score."
   ]
  },
  {
   "cell_type": "markdown",
   "metadata": {},
   "source": [
    "### **Exercise 4: Sentence Similarity**"
   ]
  },
  {
   "cell_type": "code",
   "execution_count": 32,
   "metadata": {},
   "outputs": [],
   "source": [
    "# import natural language processing software we need later.\n",
    "import nltk\n",
    "from nltk.stem import WordNetLemmatizer\n"
   ]
  },
  {
   "cell_type": "code",
   "execution_count": 33,
   "metadata": {},
   "outputs": [
    {
     "name": "stderr",
     "output_type": "stream",
     "text": [
      "[nltk_data] Downloading package wordnet to\n",
      "[nltk_data]     /Users/krolosabdou/nltk_data...\n",
      "[nltk_data]   Package wordnet is already up-to-date!\n",
      "[nltk_data] Downloading package punkt to\n",
      "[nltk_data]     /Users/krolosabdou/nltk_data...\n",
      "[nltk_data]   Package punkt is already up-to-date!\n",
      "[nltk_data] Downloading package omw-1.4 to\n",
      "[nltk_data]     /Users/krolosabdou/nltk_data...\n"
     ]
    },
    {
     "data": {
      "text/plain": [
       "True"
      ]
     },
     "execution_count": 33,
     "metadata": {},
     "output_type": "execute_result"
    }
   ],
   "source": [
    "# Download wordnet and punkt sentence tokenizer\n",
    "nltk.download('wordnet')\n",
    "nltk.download('punkt')\n",
    "nltk.download('omw-1.4')\n"
   ]
  },
  {
   "cell_type": "markdown",
   "metadata": {},
   "source": [
    "Below we have some example sentences to compare later on."
   ]
  },
  {
   "cell_type": "code",
   "execution_count": 34,
   "metadata": {},
   "outputs": [],
   "source": [
    "movies = [\"I saw a really good movie last night.\",\n",
    "\"The movie is based on the director's life.\",\n",
    "\"The movie starts at ten.\",\n",
    "\"I took her to a movie.\",\n",
    "\"The movie stars Al Pacino.\",\n",
    "\"The movie opened last weekend.\",\n",
    "\"The movie lasted two hours.\",\n",
    "\"He directed several movies.\", \n",
    "\"We just shot another movie.\", \n",
    "\"The movie was set in New York.\"]"
   ]
  },
  {
   "cell_type": "markdown",
   "metadata": {},
   "source": []
  },
  {
   "cell_type": "code",
   "execution_count": 35,
   "metadata": {},
   "outputs": [],
   "source": [
    "def get_jaccard_sim(str1, str2): \n",
    "    a = set(str1.split()) \n",
    "    b = set(str2.split())\n",
    "    c = a.intersection(b)\n",
    "    return float(len(c)) / (len(a) + len(b) - len(c))"
   ]
  },
  {
   "cell_type": "markdown",
   "metadata": {},
   "source": [
    "To get the Jaccard Similarity of two sentences however, we first need to do some preprocessing in the form of Lemmatization and Tokenization."
   ]
  },
  {
   "cell_type": "code",
   "execution_count": 36,
   "metadata": {},
   "outputs": [],
   "source": [
    "def compare(s1, s2):\n",
    "\n",
    "    #Import a Lemmatizer to get the root form of certain words\n",
    "    lemmatizer = WordNetLemmatizer() \n",
    "    \n",
    "    #Tokenize both sentences to get each word separately\n",
    "    word_list1 = nltk.word_tokenize(s1)\n",
    "    word_list2 = nltk.word_tokenize(s2)\n",
    "    \n",
    "#     print(\"Tokenized sentence\", word_list1) #Uncomment to see an example of the tokenized sentence \n",
    "    \n",
    "    #Lemmatize both sentences\n",
    "    lemmatized_output1 = ' '.join([lemmatizer.lemmatize(w, 'v') for w in word_list1])\n",
    "    lemmatized_output2 = ' '.join([lemmatizer.lemmatize(w, 'v') for w in word_list2])\n",
    "    \n",
    "    return lemmatized_output1, lemmatized_output2"
   ]
  },
  {
   "cell_type": "code",
   "execution_count": 37,
   "metadata": {
    "scrolled": true
   },
   "outputs": [
    {
     "name": "stdout",
     "output_type": "stream",
     "text": [
      "Sentence 1: I saw a really good movie last night . \n",
      " Sentence 2: I saw a really good movie last night . \n",
      " Similarity Score: 1.0\n",
      "Sentence 1: I saw a really good movie last night . \n",
      " Sentence 2: The movie be base on the director 's life . \n",
      " Similarity Score: 0.11764705882352941\n",
      "Sentence 1: I saw a really good movie last night . \n",
      " Sentence 2: The movie start at ten . \n",
      " Similarity Score: 0.15384615384615385\n",
      "Sentence 1: I saw a really good movie last night . \n",
      " Sentence 2: I take her to a movie . \n",
      " Similarity Score: 0.3333333333333333\n",
      "Sentence 1: I saw a really good movie last night . \n",
      " Sentence 2: The movie star Al Pacino . \n",
      " Similarity Score: 0.15384615384615385\n",
      "Sentence 1: I saw a really good movie last night . \n",
      " Sentence 2: The movie open last weekend . \n",
      " Similarity Score: 0.25\n",
      "Sentence 1: I saw a really good movie last night . \n",
      " Sentence 2: The movie last two hours . \n",
      " Similarity Score: 0.25\n",
      "Sentence 1: I saw a really good movie last night . \n",
      " Sentence 2: He direct several movies . \n",
      " Similarity Score: 0.07692307692307693\n",
      "Sentence 1: I saw a really good movie last night . \n",
      " Sentence 2: We just shoot another movie . \n",
      " Similarity Score: 0.15384615384615385\n",
      "Sentence 1: I saw a really good movie last night . \n",
      " Sentence 2: The movie be set in New York . \n",
      " Similarity Score: 0.13333333333333333\n"
     ]
    }
   ],
   "source": [
    "from nltk.stem import WordNetLemmatizer\n",
    "for x in range(len(movies)):\n",
    "    l1, l2 = compare(movies[0], movies[x])\n",
    "    print(\"Sentence 1:\", l1, '\\n', \"Sentence 2:\", l2, '\\n', \"Similarity Score:\", get_jaccard_sim(l1,l2))"
   ]
  },
  {
   "cell_type": "markdown",
   "metadata": {},
   "source": [
    "*****************************************************\n",
    "#### Task: In what scenario's could the Jaccard Similarity be more useful than the Euclidean distance and the Pearson Similarity metrics? Why is that? \n",
    "*****************************************************"
   ]
  },
  {
   "cell_type": "markdown",
   "metadata": {},
   "source": [
    "Answer:\n",
    "\n",
    "The Euclidean distance is a distance based Metrics. Pearson and Jaccard are similarity based metrics. \n",
    "\n",
    "- Pearson similarity can be used to investigate the relationship between two quantitative and continuous variables.\n",
    "- Euclidean distance is the distance between two vectors and is used for numerical and continious variables. \n",
    "- Jaccard similarity is used for comparing two binary vectors. \n",
    "\n",
    "If you want to compute text similarity, you can better use the Jaccard similarity. Jaccard simliarity compares all of the terms in one document to those in another."
   ]
  },
  {
   "cell_type": "markdown",
   "metadata": {},
   "source": [
    "### **Exercise 5: Building a Reddit Recommender**\n",
    "\n",
    "After having created your Reddit account, go to User Settings -> Safety & Privacy -> Manage third-party app authorization.\n",
    "Here, you will create your own app. Give it a name, and add \"https://www.reddit.com/prefs/apps/\" to the redirect uri. Keep the other settings as they are.\n",
    "You may encounter some issues accessing \"https://www.reddit.com/prefs/apps/\" in Chrome. If so, try with another browser.\n",
    "\n",
    "* replace the '???' in the user_agent string with your name (or any unique string).\n",
    "* replace the '???' in the client_id with the id right underneath your web app name.\n",
    "* replace the '???' in the client_secret with the key next to 'secret'.\n",
    "\n",
    "NOTE: install praw v. 3.5 \n"
   ]
  },
  {
   "cell_type": "code",
   "execution_count": 38,
   "metadata": {},
   "outputs": [],
   "source": [
    "# -*- coding: utf-8 -*-\n",
    "\n",
    "import praw\n",
    "import time\n",
    "\n",
    "#Delete keys before handing in the notebook\n",
    "r = praw.Reddit(user_agent='KrolosA', client_id='mt01EaNxC4C9Ijhj8hAEwQ',\n",
    "                      client_secret='PIo5vmCpbeGA2IIh_a8PsUns0JM3JA',\n",
    "                      redirect_url='https://www.reddit.com/prefs/apps/'\n",
    "                                   'authorize_callback')\n",
    "\n",
    "\n",
    "def initializeUserDict(subreddit, count=10):\n",
    "    user_dict={}\n",
    "    # get the top count' popular posts\n",
    "    for post in r.subreddit(subreddit).top(limit=count):\n",
    "        # find all users who commented in this\n",
    "        flat_comments = post.comments.list()\n",
    "        for comment in flat_comments:\n",
    "            try:\n",
    "                user = comment.author.name\n",
    "                user_dict[user] = {}\n",
    "            except AttributeError:\n",
    "                pass\n",
    "    return user_dict\n",
    "\n",
    "def fillItems(user_dict, count=100):\n",
    "    all_items={}\n",
    "    # Find links posted by all users\n",
    "    for user in user_dict:\n",
    "        # print(\"finding subreddits where user \" + user + \"has commented\")\n",
    "        # find new comments for given user\n",
    "        comments = r.redditor(user).comments.new(limit=count)\n",
    "        for c in comments:\n",
    "            # Get the subreddit where the comment was made\n",
    "            subreddit = c.subreddit\n",
    "            sub_name = subreddit.display_name\n",
    "            # print(sub_name)\n",
    "            if sub_name in user_dict[user]:\n",
    "                user_dict[user][sub_name] += 1.0\n",
    "            else:\n",
    "                user_dict[user][sub_name] = 1.0\n",
    "            \n",
    "            all_items[sub_name] = 1\n",
    "#     Fill in missing items with 0\n",
    "#     for subr_counts in user_dict.values():\n",
    "#         for item in all_items:\n",
    "#             if item not in subr_counts:\n",
    "#                 subr_counts[item]=0.0\n",
    "    \n",
    "    return user_dict\n",
    " "
   ]
  },
  {
   "cell_type": "markdown",
   "metadata": {},
   "source": [
    "You can get a list of popular recent posts about programming from the programming subreddit (https://www.reddit.com/r/VUAmsterdam) by invoking the code below.  Don't forget to replace the '???' in the user_agent string with your name (or any unique string)."
   ]
  },
  {
   "cell_type": "code",
   "execution_count": 43,
   "metadata": {
    "scrolled": true
   },
   "outputs": [
    {
     "name": "stdout",
     "output_type": "stream",
     "text": [
      "praw version == 7.6.1\n",
      "\n",
      " * Opinions on Political Science: Global Politics\n",
      "\n",
      " * Menta Health Well-being at the VU\n",
      "\n",
      " * Coronavirus at the VU\n",
      "\n",
      " * Got accepted into cs program last year, but now it’s numerous fixus\n",
      "\n",
      " * Improving the subreddit\n"
     ]
    }
   ],
   "source": [
    "print(\"praw version == \" + praw.__version__)\n",
    "\n",
    "# subreddit = r.subreddit(\"programming\")\n",
    "for post in r.subreddit('VUAmsterdam').top(limit=5):\n",
    "    print(end='\\n * ')\n",
    "    print(post.title)"
   ]
  },
  {
   "cell_type": "markdown",
   "metadata": {},
   "source": [
    "See here a list of other subreddits you can explore with this code: https://www.reddit.com/reddits/\n",
    "\n",
    "To automatically create a data set of reddit users similar to the movie watchers you can invoke the initializeUserDict function in redditrec.py "
   ]
  },
  {
   "cell_type": "code",
   "execution_count": 44,
   "metadata": {},
   "outputs": [
    {
     "name": "stdout",
     "output_type": "stream",
     "text": [
      "{'Digesta94': {}, 'CrazyRide72': {}, 'SenseiTrade': {}, 'BillHoudini': {}, 'angulardragon03': {}, '-BYeBYe-': {}, 'visvis': {}, 'samsungebluckburry': {}, 'PlantBeanVibes': {}, 'schuifdurrrr': {}, 'reks_rb': {}, 'No-Trip-3464': {}, 'Any_Watercress7798': {}, 'cariimejia16': {}, 'ElkNo1598': {}, 'Adorable_Suggestion4': {}, 'PawBud': {}, 'DomDom2002': {}, 'aitahb': {}, 'DigProgrammatically3': {}, 'rexygorl': {}, 'redmehalis': {}, 'Otherwise_Extreme_59': {}, 'wassup5551': {}, 'deepshitgoeshere': {}, 'These-Psychology-959': {}, 'macedoineGontran': {}, 'Thenextelonmusklol': {}, 'nfp267': {}, 'amaxs': {}, 'ImAClosetNerd': {}, 'Agreeable_Baseball87': {}, 'whocares4817': {}, 'Administrative_Fun_6': {}}\n"
     ]
    }
   ],
   "source": [
    "red_users=initializeUserDict('VUAmsterdam', count=15) # or for any other subreddit\n",
    "print(red_users)"
   ]
  },
  {
   "cell_type": "markdown",
   "metadata": {},
   "source": [
    "Now initializeUserDict has only created the user keys. We of course also want to know what subreddits they posted comments on. You can pull those in through:"
   ]
  },
  {
   "cell_type": "code",
   "execution_count": 45,
   "metadata": {},
   "outputs": [
    {
     "data": {
      "text/plain": [
       "{'Digesta94': {'VUAmsterdam': 1.0},\n",
       " 'CrazyRide72': {'StudyInTheNetherlands': 9.0,\n",
       "  'VUAmsterdam': 3.0,\n",
       "  'Denmark': 1.0,\n",
       "  'Advice': 1.0,\n",
       "  'MDMA': 1.0},\n",
       " 'SenseiTrade': {'VUAmsterdam': 2.0,\n",
       "  'FreeKarma4You': 1.0,\n",
       "  'FitnessMaterialHeaven': 1.0,\n",
       "  'AskReddit': 2.0,\n",
       "  'overcominggravity': 3.0,\n",
       "  'LifeProTips': 1.0,\n",
       "  'bodyweightfitness': 1.0,\n",
       "  'powerlifting': 2.0,\n",
       "  'weightlifting': 2.0},\n",
       " 'BillHoudini': {'tennis': 7.0,\n",
       "  'europe': 1.0,\n",
       "  'TechnoProduction': 1.0,\n",
       "  'soccer': 1.0,\n",
       "  'progmetal': 1.0,\n",
       "  'DunderMifflin': 1.0,\n",
       "  'footballmanagergames': 1.0,\n",
       "  'Barca': 1.0,\n",
       "  'Beatmatch': 1.0},\n",
       " 'angulardragon03': {'VUAmsterdam': 10.0,\n",
       "  'StudyInTheNetherlands': 1.0,\n",
       "  'swift': 2.0,\n",
       "  'apple': 1.0,\n",
       "  'technology': 1.0},\n",
       " '-BYeBYe-': {'Windows10': 1.0,\n",
       "  'Liverpool': 4.0,\n",
       "  'Pixel6': 1.0,\n",
       "  'AskReddit': 6.0,\n",
       "  'VUAmsterdam': 1.0,\n",
       "  'JoblessReincarnation': 1.0,\n",
       "  'Minecraft': 1.0},\n",
       " 'visvis': {'thenetherlands': 11.0,\n",
       "  'Amsterdam': 1.0,\n",
       "  'europe': 1.0,\n",
       "  'StudyInTheNetherlands': 1.0,\n",
       "  'AskReddit': 1.0},\n",
       " 'samsungebluckburry': {'GamingLeaksAndRumours': 1.0,\n",
       "  'IBO': 8.0,\n",
       "  'football': 1.0,\n",
       "  'Nepal': 2.0,\n",
       "  'VUAmsterdam': 1.0,\n",
       "  'nextfuckinglevel': 1.0,\n",
       "  'ksi': 1.0},\n",
       " 'PlantBeanVibes': {'VUAmsterdam': 13.0, 'redditgetsdrawn': 2.0},\n",
       " 'schuifdurrrr': {'TheWeeknd': 1.0,\n",
       "  'ukdrill': 5.0,\n",
       "  'AmItheAsshole': 1.0,\n",
       "  'Tekken7': 1.0,\n",
       "  'Tekken': 1.0,\n",
       "  'getdisciplined': 1.0,\n",
       "  'Calfmuscle': 1.0,\n",
       "  'csMajors': 2.0,\n",
       "  'VUAmsterdam': 1.0,\n",
       "  'NarcoFootage': 1.0},\n",
       " 'reks_rb': {'VUAmsterdam': 5.0,\n",
       "  'AskReddit': 1.0,\n",
       "  'StudyInTheNetherlands': 5.0,\n",
       "  'TUe': 2.0},\n",
       " 'No-Trip-3464': {'sadboys': 1.0,\n",
       "  'Amsterdam': 1.0,\n",
       "  'tressless': 1.0,\n",
       "  'teenagers': 2.0,\n",
       "  'VUAmsterdam': 3.0,\n",
       "  'AskReddit': 1.0,\n",
       "  'Drugs': 3.0,\n",
       "  'GREEK': 1.0,\n",
       "  'skiing': 2.0},\n",
       " 'Any_Watercress7798': {'AmsterdamEnts': 14.0, 'Amsterdam': 1.0},\n",
       " 'cariimejia16': {'StudyInTheNetherlands': 7.0,\n",
       "  'VUAmsterdam': 3.0,\n",
       "  'Amsterdam': 5.0},\n",
       " 'ElkNo1598': {'StudyInTheNetherlands': 1.0,\n",
       "  'VUAmsterdam': 1.0,\n",
       "  'learnpython': 10.0,\n",
       "  'learnprogramming': 2.0},\n",
       " 'Adorable_Suggestion4': {'queensuniversity': 5.0,\n",
       "  'VUAmsterdam': 1.0,\n",
       "  'TilburgUniversity': 2.0,\n",
       "  'uErasmus': 1.0},\n",
       " 'PawBud': {'Rekordbox': 1.0,\n",
       "  'Beatmatch': 1.0,\n",
       "  'shitposting': 1.0,\n",
       "  'StudyInTheNetherlands': 2.0,\n",
       "  'hyderabad': 1.0,\n",
       "  'VUAmsterdam': 3.0,\n",
       "  'Hardwell': 1.0,\n",
       "  'avicii': 1.0,\n",
       "  'facepalm': 1.0,\n",
       "  'developersIndia': 1.0,\n",
       "  'applehelp': 1.0,\n",
       "  'interestingasfuck': 1.0},\n",
       " 'DomDom2002': {'firstimpression': 1.0,\n",
       "  'Nike': 2.0,\n",
       "  'RunningShoeGeeks': 3.0,\n",
       "  'VUAmsterdam': 5.0,\n",
       "  'college': 1.0,\n",
       "  'StudyInTheNetherlands': 3.0},\n",
       " 'aitahb': {'PostgreSQL': 1.0,\n",
       "  'nginx': 1.0,\n",
       "  'django': 1.0,\n",
       "  'sysadmin': 1.0,\n",
       "  'universityofamsterdam': 1.0,\n",
       "  'VUAmsterdam': 3.0,\n",
       "  'gradadmissions': 1.0,\n",
       "  'tumunich': 6.0},\n",
       " 'DigProgrammatically3': {'celebJObuds': 1.0,\n",
       "  'Unexpected': 1.0,\n",
       "  'VUAmsterdam': 4.0,\n",
       "  'bangalore': 1.0,\n",
       "  'Netherlands': 3.0,\n",
       "  'gradadmissions': 1.0},\n",
       " 'rexygorl': {'bioinformatics': 2.0,\n",
       "  'stillwoozy': 9.0,\n",
       "  'seinfeld': 1.0,\n",
       "  'Amsterdam': 1.0,\n",
       "  'VUAmsterdam': 1.0,\n",
       "  'CageTheElephant': 1.0},\n",
       " 'redmehalis': {'VUAmsterdam': 1.0,\n",
       "  'Wizard101': 1.0,\n",
       "  'bigdickproblems': 1.0,\n",
       "  'greece': 2.0,\n",
       "  'AskBalkans': 8.0,\n",
       "  'mkd': 2.0},\n",
       " 'Otherwise_Extreme_59': {'StudyInTheNetherlands': 2.0, 'VUAmsterdam': 1.0},\n",
       " 'wassup5551': {'VUAmsterdam': 1.0,\n",
       "  'Laptop': 1.0,\n",
       "  'NoFap': 3.0,\n",
       "  'StudyInTheNetherlands': 4.0,\n",
       "  'Kanye': 4.0,\n",
       "  'HealthAnxiety': 1.0,\n",
       "  'AskReddit': 1.0},\n",
       " 'deepshitgoeshere': {'VUAmsterdam': 1.0,\n",
       "  'Amsterdam': 1.0,\n",
       "  'cscareerquestionsEU': 1.0,\n",
       "  'thinkpad': 3.0,\n",
       "  'LineageOS': 1.0,\n",
       "  'MechanicalKeyboards': 1.0,\n",
       "  'brockhampton': 1.0,\n",
       "  'Pizza': 2.0,\n",
       "  'todayilearned': 1.0,\n",
       "  'AskReddit': 1.0,\n",
       "  'bicycling': 2.0},\n",
       " 'These-Psychology-959': {'TUe': 3.0,\n",
       "  'StudyInTheNetherlands': 5.0,\n",
       "  'VUAmsterdam': 1.0,\n",
       "  'TUDelft': 2.0,\n",
       "  'space': 1.0,\n",
       "  'Futurology': 1.0},\n",
       " 'macedoineGontran': {'symfony': 1.0,\n",
       "  'ionic': 1.0,\n",
       "  'kde': 4.0,\n",
       "  'artixlinux': 3.0,\n",
       "  'cybersecurity_help': 1.0,\n",
       "  'vuejs': 2.0,\n",
       "  'VUAmsterdam': 1.0,\n",
       "  'fossdroid': 2.0},\n",
       " 'Thenextelonmusklol': {'universityofamsterdam': 1.0,\n",
       "  'IBO': 2.0,\n",
       "  'VUAmsterdam': 3.0,\n",
       "  'utwente': 5.0,\n",
       "  'StudyInTheNetherlands': 4.0},\n",
       " 'nfp267': {'VUAmsterdam': 2.0,\n",
       "  'sad': 4.0,\n",
       "  'Needafriend': 7.0,\n",
       "  'LGBTeens': 1.0,\n",
       "  'dating': 1.0},\n",
       " 'amaxs': {'CollegeTransfer': 2.0,\n",
       "  'PhD': 3.0,\n",
       "  'IWantOut': 3.0,\n",
       "  'PoliticalScience': 3.0,\n",
       "  'SocialNetworkAnalysis': 1.0,\n",
       "  'dataisbeautiful': 1.0,\n",
       "  'Coffee': 1.0,\n",
       "  'expats': 1.0},\n",
       " 'ImAClosetNerd': {'GalaxyS8': 1.0,\n",
       "  'samsung': 1.0,\n",
       "  'catsonglass': 1.0,\n",
       "  'movies': 2.0,\n",
       "  'Unexpected': 1.0,\n",
       "  'jellybeantoes': 1.0,\n",
       "  'misophonia': 2.0,\n",
       "  'Lenovo': 2.0,\n",
       "  'sony': 3.0,\n",
       "  'adhd_college': 1.0},\n",
       " 'Agreeable_Baseball87': {'StudyInTheNetherlands': 11.0,\n",
       "  'Netherlands': 1.0,\n",
       "  'unimelb': 3.0},\n",
       " 'whocares4817': {'KingkillerChronicle': 1.0,\n",
       "  'rickandmorty': 2.0,\n",
       "  'adventuretime': 6.0,\n",
       "  'TheLastAirbender': 1.0,\n",
       "  'regularshow': 2.0,\n",
       "  'movies': 1.0,\n",
       "  'todayilearned': 1.0,\n",
       "  'marvelmemes': 1.0},\n",
       " 'Administrative_Fun_6': {'Amsterdam': 1.0, 'VUAmsterdam': 2.0}}"
      ]
     },
     "execution_count": 45,
     "metadata": {},
     "output_type": "execute_result"
    }
   ],
   "source": [
    "fillItems(red_users, count=15)\n",
    "# here you can see how often each user commented in what sub."
   ]
  },
  {
   "cell_type": "markdown",
   "metadata": {},
   "source": [
    "This script may take a few minutes to collect all the data. Use this time to review what is going on in the code. Notice that users don't give ratings to subreddits, instead we are counting how many comments they posted in each subreddit. \n",
    "\n",
    "To recommend a similar user, we can use our topMatches function again.\n",
    "\n",
    "First choose a random user for whom you're going to find neighbours"
   ]
  },
  {
   "cell_type": "code",
   "execution_count": 46,
   "metadata": {},
   "outputs": [
    {
     "name": "stdout",
     "output_type": "stream",
     "text": [
      "Administrative_Fun_6\n"
     ]
    },
    {
     "data": {
      "text/plain": [
       "[(1.0, 'No-Trip-3464'),\n",
       " (0, 'whocares4817'),\n",
       " (0, 'wassup5551'),\n",
       " (0, 'visvis'),\n",
       " (0, 'schuifdurrrr')]"
      ]
     },
     "execution_count": 46,
     "metadata": {},
     "output_type": "execute_result"
    }
   ],
   "source": [
    "import random\n",
    "user= random.choice( list( red_users.keys() ))\n",
    "print (user) # print the username \n",
    "topMatches(user, prefs=red_users) # from all redditors, get the most similar to user"
   ]
  },
  {
   "cell_type": "markdown",
   "metadata": {},
   "source": [
    "If no similar user was found, you can try increasing the count of users or comments for each initializeUserDict and fillItems."
   ]
  },
  {
   "cell_type": "markdown",
   "metadata": {},
   "source": [
    "*****************************************************\n",
    "#### Task: Recommend subreddits for a user based on what subreddits similar users have commented in. Recommend posts for a user based on posts they have commented on. \n",
    "*****************************************************"
   ]
  },
  {
   "cell_type": "markdown",
   "metadata": {},
   "source": [
    "### Recommend subreddits for a user based on what subreddits similar users have commented in"
   ]
  },
  {
   "cell_type": "code",
   "execution_count": 71,
   "metadata": {},
   "outputs": [
    {
     "name": "stdout",
     "output_type": "stream",
     "text": [
      "The first 3 subreddits recommended for reks_rb are:\n",
      "[(4.0, 'Kanye'), (3.0, 'NoFap'), (3.0, 'Drugs')]\n"
     ]
    }
   ],
   "source": [
    "def Subreddit_recommender(user, similarity=sim_pearson, prefs=red_users):\n",
    "    \"\"\"\n",
    "    Finds subreddits that it can recommend to a user based on what subreddits\n",
    "    similar users have commented in\n",
    "    \"\"\"\n",
    "    \n",
    "    if similarity not in [sim_distance, sim_pearson]:\n",
    "        raise ValueError(\"Callback functions should be: 'sim_pearson' or 'sim_distance'.\")\n",
    "    \n",
    "    totals = {}\n",
    "    simSums = {}\n",
    "    \n",
    "    for other in prefs:\n",
    "        \n",
    "    # Don't compare me to myself\n",
    "        if other == user:\n",
    "            continue\n",
    "        sim = similarity(user, other, prefs=prefs)\n",
    "        \n",
    "    # Ignore scores of zero or lower\n",
    "        if sim <= 0: \n",
    "            continue\n",
    "            \n",
    "        for item in prefs[other]:\n",
    "            # Only score subreddits I haven't seen yet\n",
    "            if item not in prefs[user] or prefs[user][item] == 0:\n",
    "                # Similarity * Score\n",
    "                    totals.setdefault(item, 0)\n",
    "                    # The final score is calculated by multiplying each item by the\n",
    "                    #   similarity and adding these products together\n",
    "                    totals[item] += prefs[other][item] * sim\n",
    "                    # Sum of similarities\n",
    "                    simSums.setdefault(item, 0)\n",
    "                    simSums[item] += sim\n",
    "                    \n",
    "    # Create the normalized list\n",
    "    rankings = [(total / simSums[item], item) for (item, total) in totals.items()]\n",
    "    if rankings:\n",
    "        # Return the sorted list\n",
    "        rankings.sort()\n",
    "        rankings.reverse()\n",
    "        return rankings[0:3]\n",
    "    else:\n",
    "        print(\"No data\")\n",
    "  \n",
    "user = random.choice( list( red_users.keys() ))\n",
    "print (f\"The first 3 subreddits recommended for {user} are:\")\n",
    "print(Subreddit_recommender(user))"
   ]
  },
  {
   "cell_type": "markdown",
   "metadata": {},
   "source": [
    "### Recommend posts for a user based on posts they have commented on"
   ]
  },
  {
   "cell_type": "code",
   "execution_count": 94,
   "metadata": {},
   "outputs": [
    {
     "name": "stdout",
     "output_type": "stream",
     "text": [
      "{'Digesta94': {'Got accepted into cs program last year, but now it’s numerous fixus': 1.0}, 'CrazyRide72': {'Got accepted into cs program last year, but now it’s numerous fixus': 2.0}, 'SenseiTrade': {'Got accepted into cs program last year, but now it’s numerous fixus': 1.0, 'Very confused': 1.0}, 'BillHoudini': {'Improving the subreddit': 1.0}, 'angulardragon03': {'Improving the subreddit': 1.0, 'Can anyone tell me are you happy with the computer science program': 3.0, 'Just got into the Bsc Computer Science Program': 2.0, 'Can anyone tell me where this is? A friend send this and said that it was in one of the VU buildings.': 4.0, 'Laptop for CS': 3.0, 'URGENT HELP': 2.0, 'Computer Science Bachelor': 1.0, \"I filled in my studielink profile information but now I am being asked to upload ID on VuNet. I don't have a username or password\": 3.0, 'Tips for first year': 3.0, 'Master after BSc Computer Science @VU': 2.0, \"Can anyone explain 7/12 rule mentioned in tuition fee calculator (https://uva-ac.topdesk.net/xfg/enguvawizard)? It's a joint degree between VU/UvA and it says if i get enrolled by feb 1, the fees will be reduced to 7/12th of the amount.\": 1.0, 'PPE at VU': 1.0, 'Computer Science': 1.0, 'Very confused': 2.0, 'Tuition fee': 1.0, 'CS Curriculum at VU': 2.0, 'Question about IB requirements.': 1.0, 'Study Choice Check Questionnaire': 1.0, 'Computer Science at VU Amsterdam': 1.0, 'Studying Abroad at VU Amsterdam?': 1.0, 'Got accepted, now what?': 2.0, 'Should I accept my offer from Vrije Universiteit Amsterdam Psychology Bsc?': 2.0, 'How do the world the coffee machines work?': 1.0, 'Books for CS?': 1.0, 'How hard is it to get into the BS Computer Science program?': 1.0, 'Letter of acceptance': 1.0, 'Masters in Computer Security': 2.0, 'Recommendation letters': 1.0, 'Future Applicant': 1.0, 'Is 18 ECTS doable in the semester november-december?': 1.0, 'Course registration module for bachelors not working': 1.0, 'Getting more informations about computer science': 3.0}, '-BYeBYe-': {'Is VU good for CS': 1.0}, 'visvis': {'Is VU good for CS': 3.0, 'Amount of resits a student can take': 1.0, 'how much math is involved in the cs degree at this uni?': 1.0, 'From Minervahaven to Vrije': 1.0}, 'samsungebluckburry': {'Is VU good for CS': 2.0, 'Going to amsterdam without registration': 1.0, 'Tips for first year': 2.0, 'how much math is involved in the cs degree at this uni?': 1.0, 'Very confused': 1.0, 'Tuition fee': 1.0}, 'PlantBeanVibes': {'Is VU good for CS': 1.0, 'Artificial Intelligence bachelors program - how to prepare': 1.0, 'International students at VU': 1.0, \"How's the M Artificial Intelligence program?\": 1.0, 'after architecture studies?': 1.0, 'Covid affecting work at VU?': 1.0, 'Constrained choice and minor availability': 1.0, \"Question -> VU's Research Master's (Psychology)\": 1.0, 'Upload a photo of yourself': 1.0, 'Application Deadline... WUT?': 1.0}, 'schuifdurrrr': {\"Any what's app group for CS '22 batch\": 1.0}, 'reks_rb': {\"Any what's app group for CS '22 batch\": 1.0, 'Can anyone tell me are you happy with the computer science program': 1.0, 'Master after BSc Computer Science @VU': 1.0, 'CS Curriculum at VU': 1.0}, 'No-Trip-3464': {'Looking for a room/roommates in Amsterdam?': 1.0, 'Housing by VU': 1.0}, 'Any_Watercress7798': {'Looking for a room/roommates in Amsterdam?': 2.0}, 'cariimejia16': {'Looking for a room/roommates in Amsterdam?': 1.0, 'Housing': 1.0, 'Housing by VU': 1.0, 'How to send the baccalaureate diploma': 1.0, 'Psychology books first year students?': 1.0, 'Course registration module for bachelors not working': 1.0}, 'ElkNo1598': {'Looking for people going to VU from India this year': 1.0}, 'Adorable_Suggestion4': {'Looking for people going to VU from India this year': 1.0}, 'PawBud': {'Looking for people going to VU from India this year': 3.0, 'Calling out MSc CS VU-UvA folks': 1.0, 'Recommendation letters': 2.0}, 'DomDom2002': {'Looking for people going to VU from India this year': 1.0, 'CS at VU': 1.0, 'A discord server for “The newly admitted” CS/AI students': 2.0, 'Computer Science at VU Amsterdam': 1.0}, 'aitahb': {'Looking for people going to VU from India this year': 1.0, 'Calling out MSc CS VU-UvA folks': 1.0}, 'DigProgrammatically3': {'Looking for people going to VU from India this year': 1.0, 'CS chat room for students': 1.0, 'Help with Application Form Format?': 1.0, 'IELTS Academic Computer Based': 1.0}, 'rexygorl': {'Looking for people going to VU from India this year': 1.0}, 'redmehalis': {'Computer Science at VU': 1.0, 'Accommodation Uilenstede': 1.0, 'Computer Science at VU Amsterdam': 1.0, 'Hi Everyone! Questions about housing': 1.0}, 'Otherwise_Extreme_59': {'Computer Science at VU': 1.0}, 'wassup5551': {'Computer Science at VU': 1.0}, 'deepshitgoeshere': {'Computer Science at VU': 1.0}, 'These-Psychology-959': {'Computer Science at VU': 1.0}, 'macedoineGontran': {'Housing': 2.0, 'CS chat room for students': 1.0, 'Tuition fees for CS': 1.0, 'Getting more informations about computer science': 1.0}, 'Thenextelonmusklol': {'Housing': 3.0, 'Accommodation Uilenstede': 1.0}, 'nfp267': {'Housing': 1.0, 'Need Contacts': 1.0, 'Getting more informations about computer science': 2.0}, 'amaxs': {'Housing': 1.0, 'Studying Abroad at VU Amsterdam?': 1.0, 'Experience with Political Science Master Global Environmental Governance, Sustainability and Climate Change': 1.0}, 'ImAClosetNerd': {'Does VU Amsterdam guarantee housing for undergraduate international students?': 1.0, 'Housing': 1.0, 'Does the VU have a graduation ceremony?': 1.0, 'Letter of acceptance': 1.0}, 'Agreeable_Baseball87': {'Does VU Amsterdam guarantee housing for undergraduate international students?': 1.0, 'Approach to writing scholarships in Holland? Help!': 2.0}, 'whocares4817': {'Does VU Amsterdam guarantee housing for undergraduate international students?': 1.0}, 'Administrative_Fun_6': {'Can anyone tell me are you happy with the computer science program': 2.0}, 'BathroomTrick8271': {'Housing by VU': 1.0, 'Vrije Admission- MSc Finance': 2.0, 'How do the world the coffee machines work?': 1.0, 'Does VU have Orientation days/week for new students (Sep-2022)?': 1.0}, 'Ok-Cranberry1181': {'Housing by VU': 1.0}, 'whopsydhopsy': {'Housing by VU': 5.0}, 'YZY21': {'Housing by VU': 1.0}, 'Electronic_Board_203': {'Housing by VU': 5.0, 'I need help with my application': 2.0, 'International Business Administration in VU Amsterdam': 3.0}, 'ndrdina': {'Are there any chat groups for biomedical science first years starting in fall this year?': 1.0, 'Whatsapp group for biomedical sciences 2022-2023 first year': 1.0}, 'Bushturtle': {'Are there any chat groups for biomedical science first years starting in fall this year?': 1.0}, 'lilsaracha': {'Are there any chat groups for biomedical science first years starting in fall this year?': 1.0}, 'Tijn_VDV': {'biomedical sciences - who got in??': 2.0}, 'Pale-Salamander5333': {'biomedical sciences - who got in??': 2.0, 'Biomedical sciences undergrad - selection test': 4.0, 'BSc. Biomedical Sciences Ranking Number Results!!!': 2.0}, 'mariacaminero': {'biomedical sciences - who got in??': 1.0, 'Biomedical sciences undergrad - selection test': 1.0, 'Whatsapp group for biomedical sciences 2022-2023 first year': 1.0, 'estimated number of applicants for Biomedical Sciences BSc?': 1.0}, 'swarm_203': {'biomedical sciences - who got in??': 3.0}, 'nakagamiwaffle': {'biomedical sciences - who got in??': 2.0, 'Whatsapp group for biomedical sciences 2022-2023 first year': 1.0}, 'virginiaxxx': {'biomedical sciences - who got in??': 2.0}, 'Zestyclose_Chard_162': {'biomedical sciences - who got in??': 1.0, 'Biomedical sciences undergrad - selection test': 5.0, 'estimated number of applicants for Biomedical Sciences BSc?': 1.0}, 'cereal_killa28': {'biomedical sciences - who got in??': 1.0, 'Biomedical sciences undergrad - selection test': 2.0, 'is it possible to transfer to VU after spending the 1st year of your bachelors studies at a different university?': 1.0, 'Whatsapp group for biomedical sciences 2022-2023 first year': 1.0, 'estimated number of applicants for Biomedical Sciences BSc?': 1.0, 'BSc. Biomedical Sciences Ranking Number Results!!!': 3.0}, 'Ok_Might_7282': {'biomedical sciences - who got in??': 1.0}, 'katekitten00': {'Biomedical sciences undergrad - selection test': 5.0}, 'Yobamanus': {'Biomedical sciences undergrad - selection test': 4.0}, 'name203': {'Artificial Intelligence bachelors program - how to prepare': 1.0, 'Anyone in/from NYC going to VU Amsterdam?': 5.0}, 'bruhqueen': {'Artificial Intelligence bachelors program - how to prepare': 1.0}, 'HalfBewolkt': {'Which should I choose between the VU and UVA?': 1.0}, 'teodorahasreddit': {'Which should I choose between the VU and UVA?': 1.0, 'Should I accept my offer from Vrije Universiteit Amsterdam Psychology Bsc?': 3.0}, 'flavioTOBR': {'International Business Administration': 1.0}, 'Nekrogoblikon1708': {'Housing': 1.0}, 'livinlonk': {'Housing': 1.0}, 'GGGITGUD': {'Approach to writing scholarships in Holland? Help!': 5.0, 'Admission VU cs': 1.0}, 'Sky678900': {'Approach to writing scholarships in Holland? Help!': 2.0}, 'jala23': {'Approach to writing scholarships in Holland? Help!': 1.0, 'Experiences applying for the vufp and hsp scholarships': 1.0}, 'DonkaThonk': {'Making/joining VU class of 2023 groupchat': 1.0}, 'drrrr2020': {'Making/joining VU class of 2023 groupchat': 1.0}, 'pranav_2702': {'Just got into the Bsc Computer Science Program': 1.0}, 'ergun70': {'Advice!': 1.0, 'Does the VU have a graduation ceremony?': 1.0}, 'Gicoline': {'Can anyone tell me where this is? A friend send this and said that it was in one of the VU buildings.': 3.0, 'sports at VU': 1.0, '60 max credits? No minors?': 2.0, 'Hey guys. Are you aware what degree is needed to become a CGI artist. And is there an university in the Netherlands especially in Amsterdam where I can do my bachelor? Live': 3.0, 'Whatsapp group for class of 2024?': 2.0}, 'SandalenVoeten': {'Can anyone tell me where this is? A friend send this and said that it was in one of the VU buildings.': 2.0, 'URGENT HELP': 1.0}, 'CoolioDood': {'Laptop for CS': 3.0}, 'wheatinsteadofmeat': {'Laptop for CS': 4.0, 'Constrained choice and minor availability': 1.0}, 'BosnianDaddy': {'Are there any whatsapp groupchats for IBA yet?': 1.0}, 'hungqp96': {'VU Amsterdam or Utrecht...advice about which master program to choose?': 1.0, 'Registration help': 1.0}, 'gudboy007': {'CS at VU': 1.0}, 'ceanysbae': {'CS at VU': 1.0}, 'vengefulbigfoot': {'Vrije Admission- MSc Finance': 2.0, 'Registration help': 1.0}, 'HappyPotatoeo': {'URGENT HELP': 1.0}, 'Wiitchblades': {'URGENT HELP': 2.0, 'Admission': 2.0, 'Applying to CS at VU Amsterdam as an IB graduate': 4.0, 'Study Choice Check Questionnaire': 1.0, 'Computer Science at VU Amsterdam': 1.0, 'Calling out MSc CS VU-UvA folks': 2.0, 'Chances of getting into Vrije University Of Amsterdam with 30 points, 655 hl??': 1.0, 'Housing': 3.0, 'Username and password': 2.0}, 'eldorado49': {'URGENT HELP': 1.0}, 'ismini_': {'URGENT HELP': 3.0}, 'Additional-River4278': {'Computer Science Bachelor': 1.0}, 'meganvanmilo': {'psychology at VU': 2.0, 'I am starting my studies in amsterdam and I have no place to stay. Should I start looking for housing in other cities ?': 1.0, 'Tuition fees for CS': 1.0}, 'Fluid_Cockroach_490': {'psychology at VU': 1.0, 'Recommendation letters': 1.0}, 'Icy-Radio-7751': {'psychology at VU': 1.0, 'Questions for VU students': 1.0}, 'bendtosquares0': {'psychology at VU': 1.0}, 'chanschouw': {\"I filled in my studielink profile information but now I am being asked to upload ID on VuNet. I don't have a username or password\": 1.0, 'Looking for someone who took the Minor \"Brain and Mind\" or similar minor': 1.0}, 'Jumpinseiko': {\"I filled in my studielink profile information but now I am being asked to upload ID on VuNet. I don't have a username or password\": 4.0, 'Username and password': 2.0}, 'Rude-Dare-7036': {\"I filled in my studielink profile information but now I am being asked to upload ID on VuNet. I don't have a username or password\": 6.0}, 'PTSTS': {'Is there a microwave somewhere on the VU campus?': 1.0}, 'Whole_Temperature485': {'Is there a microwave somewhere on the VU campus?': 1.0}, 'Loop_zoop22': {'Latino Community at the VU': 1.0}, 'mataramasuko69': {'I am starting my studies in amsterdam and I have no place to stay. Should I start looking for housing in other cities ?': 1.0}, 'ushgush': {'Accommodation Uilenstede': 1.0}, 'Callmeanynameuwant': {'International students at VU': 3.0}, 'Rich_Dust4475': {'International students at VU': 2.0}, 'Diegoo2333': {'International students at VU': 3.0, 'VU Amsterdam Mechanical engineering': 1.0}, 'LoadCapacity': {'How conservative is VU?': 1.0}, 'olixos': {'How conservative is VU?': 1.0}, 'bme098': {'How conservative is VU?': 2.0}, 'mfromamsterdam': {'How conservative is VU?': 2.0, 'Course Registration -Late Placement Help !! - International Student': 1.0, 'Chances of getting into Vrije University Of Amsterdam with 30 points, 655 hl??': 1.0}, 'leica646': {'Need some contacts!': 2.0, 'Need Contacts': 1.0, 'International business administration': 1.0}, 'Atharva_Andhare': {'Need some contacts!': 1.0}, 'Gloomy-Ad-4981': {'Psychology Selection Test': 1.0, 'Does VU have Orientation days/week for new students (Sep-2022)?': 1.0, 'Housing': 1.0}, 'beatriss24': {'Tips for first year': 1.0, 'Study Choice Check Questionnaire': 1.0, 'how difficult is it to get accepted into your chosen country/ university for the semester abroad in the third year?': 2.0}, 'Sociophyle': {'Tips for first year': 1.0, 'Class Advice for CS Student': 1.0, 'Studying Abroad at VU Amsterdam?': 2.0}, 'HoracioCarrillo': {'When to go to Amsterdam': 1.0}, 'Jan4ik7': {'How to send the baccalaureate diploma': 4.0}, 'mihnea20': {'How to send the baccalaureate diploma': 2.0, 'Housing': 4.0, 'Recommendation letters': 1.0}, 'HandOwn3247': {'I am looking for a room :)': 1.0}, 'MineBurgers': {'VU Housing waitlist?': 1.0}, 'b_arbarrosso_38': {'VU Housing waitlist?': 1.0, 'Looking for roomates at VU': 1.0}, 'NervousSpaghetti': {'VU Housing waitlist?': 1.0}, 'eiust': {'VU Housing waitlist?': 1.0}, 'Resident-Garden-4220': {'Anyone in/from NYC going to VU Amsterdam?': 1.0, 'Hey, I’m applying to Communication Science in Uva and Vrije. I’ve heard that the Uva programme is ranked as the best and that the student life is more vibrant there. Still I liked the Vrije one a lot and would love to know from a student about their experience with the student life etc. Thanks!!': 1.0}, 'HeadlessEagle177': {'Anyone in/from NYC going to VU Amsterdam?': 4.0}, 'Director_Foreign': {'Whatsapp Group For Incoming Master Students 2022': 1.0}, 'kolnimaybe': {'Help with Application Form Format?': 1.0}, 'cegerg': {\"VUFP and HSP master's program scholarship\": 1.0}, 'Disastrous_Scale_165': {\"Can anyone explain 7/12 rule mentioned in tuition fee calculator (https://uva-ac.topdesk.net/xfg/enguvawizard)? It's a joint degree between VU/UvA and it says if i get enrolled by feb 1, the fees will be reduced to 7/12th of the amount.\": 1.0}, 'AcadiaSufficient2824': {'Opinion needed': 9.0}, 'Ru0610': {'Opinion needed': 6.0}, 'ruddyirishhamface': {'Admission': 2.0, 'Housing for international students': 1.0, 'VU Housing': 1.0}, 'Blinkin717': {'Admission': 1.0, 'Applying to CS at VU Amsterdam as an IB graduate': 1.0, 'Getting more informations about computer science': 1.0}, 'billegut': {'Looking for roomates at VU': 1.0}, 'ambre_fournier': {'Looking for roomates at VU': 3.0}, 'mala_ma': {'Looking for roomates at VU': 2.0}, 'PharmaCoMajor': {'Looking for roomates at VU': 1.0, 'LOOKING FOR A ROOMMATE': 2.0}, 'Working-Boat927': {'Looking for roomates at VU': 1.0}, '808sandprivacy': {'60 max credits? No minors?': 2.0}, 'sumbullshiettttttt': {'Smash Bros Melee.': 2.0}, 'Imaginary-Chair-835': {'Smash Bros Melee.': 1.0}, 'Skystalker512': {'Smash Bros Melee.': 2.0, 'Masters Cultural and Social Anthropology 2022': 1.0}, 'nanoresriaos': {'Groupchat for BA Psychology': 1.0}, 'Gullible-Affect4594': {'MSc Econometrics & Operations Research': 2.0, 'OTS-Ornge Tulip Scholarship( India)': 1.0}, 'Airplanebeach2020': {'What’s it like to study Mechanical Engineering in Amsterdam and Enschede?': 1.0}, 'MullaiSanthanam': {'Need Contacts': 1.0}, 'Nyquil_Jornan': {'Covid affecting work at VU?': 1.0}, 'PsychologicalPlight': {'A few questions regarding Vrije Univerisity (international student)': 1.0}, 'MonicaLiu7': {'A few questions regarding Vrije Univerisity (international student)': 1.0}, 'sassa04': {'Accepted to Numerus Fixus without exam?': 1.0}, 'dalposenrico01': {'ompt exam': 1.0}, 'lilartist04': {'ompt exam': 1.0}, 'faeerygirl': {'Looking for urgent accomodation and/or rommates': 1.0, 'From Minervahaven to Vrije': 1.0}, 'Kikolopita': {'Psychology books first year students?': 2.0, 'Application Deadline... WUT?': 1.0}, 'Simoneeees': {'Psychology books first year students?': 1.0}, 'babyjaystark': {'student days': 1.0}, 'cents02': {'Class Advice for CS Student': 2.0, 'A discord server for “The newly admitted” CS/AI students': 3.0}, 'theon502': {'Class Advice for CS Student': 1.0, 'Very confused': 2.0, 'From Minervahaven to Vrije': 1.0}, 'twelfthss': {'Studielink with US Direct Loans': 2.0}, 'CeramicCert': {'Studielink with US Direct Loans': 1.0}, 'tech_ie': {'Very confused': 1.0}, 'irmakki': {'From Minervahaven to Vrije': 1.0}, 'yilmazg19': {'From Minervahaven to Vrije': 1.0}, 'ladymcgonagall': {'Tuition fee': 1.0}, 'Dry-Platypus4129': {\"Question -> VU's Research Master's (Psychology)\": 1.0}, 'tuber_simulator': {'I need help with my application': 1.0}, 'kabakboregi': {'CS Curriculum at VU': 1.0}, 'nautilus555': {'CS Curriculum at VU': 1.0, 'Missed the deadline on Room.nl': 1.0}, 'BigSprinkles7890': {'Anyone living in Eerste Ringdijkstraat? I got a room there via VU university housing.': 1.0, 'VU Housing': 1.0}, 'Gold-Vanilla6951': {'Anyone living in Eerste Ringdijkstraat? I got a room there via VU university housing.': 2.0}, 'VileHawk': {'Anyone living in Eerste Ringdijkstraat? I got a room there via VU university housing.': 1.0}, 'Gunnen-Haney': {'Any MSc Marketing students here? Would love to get honest feedback on the program.': 1.0}, 'Gold_Professional576': {'International Business Administration in VU Amsterdam': 2.0}, '123_Oberkoerperfrei': {'Application Process - Math requirements not met.': 1.0}, 'K_wayy': {'Application Process - Math requirements not met.': 1.0}, 'Puchinnon': {'Application Process - Math requirements not met.': 1.0}, 'concreterose_174': {'Application Process - Math requirements not met.': 1.0}, 'cloggy44': {'Admission Exam - Psychology Course - Vrije University': 1.0}, 'jodie_1028': {'A discord server for “The newly admitted” CS/AI students': 2.0}, 'Kshanthos': {'A discord server for “The newly admitted” CS/AI students': 4.0}, 'Ordinary-Stay7551': {'International Crimes, Conflict and Criminology Masters': 1.0}, 'lyubitza13': {'International Crimes, Conflict and Criminology Masters': 3.0}, 'fbgm_29': {'International Crimes, Conflict and Criminology Masters': 1.0}, 'OriginalObjective918': {'International Crimes, Conflict and Criminology Masters': 3.0}, 'JustCallMeRas': {'Question about IB requirements.': 1.0}, 'ManufacturerMission1': {'Applying to CS at VU Amsterdam as an IB graduate': 3.0}, 'SirBhinta': {'Computer Science at VU Amsterdam': 1.0}, 'sprisc01': {'Studying Abroad at VU Amsterdam?': 1.0}, 'thelonely_stoner_': {'Studying Abroad at VU Amsterdam?': 1.0}, 'neuthrowaway38473': {'Studying Abroad at VU Amsterdam?': 2.0}, 'mootters': {'Got accepted, now what?': 1.0}, 'rockiiy1': {'LOOKING FOR A ROOMMATE': 3.0}, 'tina_223': {'Should I accept my offer from Vrije Universiteit Amsterdam Psychology Bsc?': 3.0, 'Getting more informations about computer science': 3.0}, 'EvidenceGood2356': {'Should I accept my offer from Vrije Universiteit Amsterdam Psychology Bsc?': 1.0}, 'Past-Equal6197': {'Should I accept my offer from Vrije Universiteit Amsterdam Psychology Bsc?': 1.0}, 'Denkkh': {'Experiences applying for the vufp and hsp scholarships': 2.0}, 'Thatforeigngirl288': {'Experiences applying for the vufp and hsp scholarships': 1.0}, 'lonelyyboyy': {\"I'm quite nervous about finding accommodation.\": 2.0}, 'Theglitterfactorytom': {\"I'm quite nervous about finding accommodation.\": 1.0}, 'MarraAsMa': {'Still not received BSN - what to do??': 1.0}, 'Jakexbox': {'Still not received BSN - what to do??': 1.0}, 'scholarlysacrilege': {'How do the world the coffee machines work?': 1.0}, 'BeerAndMore': {\"I'm still waiting for my late placement and Period 2 starts in 2 weeks, should I be worried?\": 1.0, 'Is 18 ECTS doable in the semester november-december?': 1.0}, 'chuwabba': {'how difficult is it to get accepted into your chosen country/ university for the semester abroad in the third year?': 2.0}, 'H-Lime2604': {'Application Deadline... WUT?': 1.0}, 'Quaisum': {'Application Deadline... WUT?': 2.0}, 'brandyylion': {'Does VU have Orientation days/week for new students (Sep-2022)?': 1.0, 'Chances to get accepted for Psychology': 1.0}, 'Sad-Dig2112': {'Chances to get accepted for Psychology': 1.0}, 'oh_ijustbrowsemain': {'failing a course': 1.0, 'Housing': 2.0}, 'miksonovzgy': {'Letter of acceptance': 3.0}, 'Chance_Quiet': {'Masters in Computer Security': 2.0}, 'SitgesSavepoint': {'Calling out MSc CS VU-UvA folks': 1.0}, 'Lindy1414': {'Calling out MSc CS VU-UvA folks': 1.0}, 'Comfortable_Pension6': {'Chances of getting into Vrije University Of Amsterdam with 30 points, 655 hl??': 1.0}, 'Depop_Noob': {'Housing': 1.0}, 'borislav2571': {'Hey guys. Are you aware what degree is needed to become a CGI artist. And is there an university in the Netherlands especially in Amsterdam where I can do my bachelor? Live': 3.0, 'Hello! I’m interested in a program called Media , Art , Design and architecture in VUA , but I’m not sure if it’s the best for people who want to become an architects. Please share your opinion and help me what to choose!': 1.0}, 'blowfish456': {'Hello! I’m interested in a program called Media , Art , Design and architecture in VUA , but I’m not sure if it’s the best for people who want to become an architects. Please share your opinion and help me what to choose!': 1.0}, 'kukuarch': {'Hello! I’m interested in a program called Media , Art , Design and architecture in VUA , but I’m not sure if it’s the best for people who want to become an architects. Please share your opinion and help me what to choose!': 1.0}, 'thatkidonthebench': {'Whatsapp group for class of 2024?': 1.0, 'Biomedical Topics in Healthcare minor': 1.0}, 'justdontfindme': {'Whatsapp group for class of 2024?': 1.0}, 'anavibasu': {'Whatsapp group for class of 2024?': 1.0}, 'fallenhumptydumpty': {'OTS-Ornge Tulip Scholarship( India)': 1.0}, 'Alarmed_Vast_1325': {'VU Amsterdam Mechanical engineering': 1.0}, 'Neverwannabe': {'Hello does Holland international Student Center and VU Amsterdam require an interview for new students who are applying to the university to attend it after summer?': 2.0}, 'Kelly-Chang': {'Hello does Holland international Student Center and VU Amsterdam require an interview for new students who are applying to the university to attend it after summer?': 1.0}, 'Known_Detective4383x': {'Getting more informations about computer science': 6.0}}\n"
     ]
    }
   ],
   "source": [
    "def Dict_post(subreddit, count=200):\n",
    "    \"\"\"\n",
    "    Makes an dictionary with as key the user and as values the posts they commented on\n",
    "    \"\"\"\n",
    "        \n",
    "    user_list = []\n",
    "    user_post_dict={}\n",
    "    \n",
    "    # get the top popular posts\n",
    "    for post in r.subreddit(subreddit).top(limit=count):\n",
    "        \n",
    "        # find all users who commented in this post\n",
    "        post_comments = post.comments.list()\n",
    "        \n",
    "        for comment in post_comments:\n",
    "            try:\n",
    "                #get the dictionary of users and the posts\n",
    "                user = comment.author.name\n",
    "                if user not in user_post_dict:\n",
    "                    user_post_dict[user] = {}\n",
    "            except AttributeError:\n",
    "                pass\n",
    "            \n",
    "        for comment in post_comments:\n",
    "            try:\n",
    "                user = comment.author.name\n",
    "                post_title = post.title\n",
    "                if post_title in user_post_dict[user]:\n",
    "                    user_post_dict[user][post_title] += 1.0\n",
    "                else:\n",
    "                    user_post_dict[user][post_title] = 1.0\n",
    "            except AttributeError:\n",
    "                pass\n",
    "            \n",
    "    return user_post_dict\n",
    "\n",
    "user_post_dict = Dict_post('VUAmsterdam')\n",
    "print(user_post_dict)"
   ]
  },
  {
   "cell_type": "code",
   "execution_count": 96,
   "metadata": {},
   "outputs": [
    {
     "name": "stdout",
     "output_type": "stream",
     "text": [
      "The first 3 posts recommended for reks_rb are:\n"
     ]
    },
    {
     "data": {
      "text/plain": [
       "[(4.0,\n",
       "  'Can anyone tell me where this is? A friend send this and said that it was in one of the VU buildings.'),\n",
       " (3.0, 'Tips for first year'),\n",
       " (3.0, 'Laptop for CS')]"
      ]
     },
     "execution_count": 96,
     "metadata": {},
     "output_type": "execute_result"
    }
   ],
   "source": [
    "def post_recommender(user, similarity=sim_pearson, prefs=posts_users_dict):\n",
    "    \"\"\"\n",
    "    Finds posts that it can recommend to a user based on posts they have commented on\n",
    "    \"\"\"\n",
    "    \n",
    "    if similarity not in [sim_distance, sim_pearson]:\n",
    "        raise ValueError(\"Callback functions should be: 'sim_pearson' or 'sim_distance'.\")\n",
    "        \n",
    "    totals = {}\n",
    "    simSums = {}\n",
    "    users = list(set(prefs.keys()))\n",
    "    \n",
    "    for other in users:\n",
    "    # Don't compare me to myself\n",
    "        if other == user:\n",
    "            continue\n",
    "            \n",
    "        try:\n",
    "            sim = sim_distance(user, other, prefs=prefs)\n",
    "        except ZeroDivisionError:\n",
    "            sim = 0.0\n",
    "            \n",
    "    # Ignore scores of zero or lower\n",
    "        if sim <= 0: \n",
    "            continue\n",
    "            \n",
    "        for item in prefs[other]:\n",
    "            # Only score posts I haven't seen yet\n",
    "            if item not in prefs[user] or prefs[user][item] == 0:\n",
    "                # Similarity * Score\n",
    "                    totals.setdefault(item, 0)\n",
    "                    # The final score is calculated by multiplying each item by the\n",
    "                    #   similarity and adding these products together\n",
    "                    totals[item] += prefs[other][item] * sim\n",
    "                    # Sum of similarities\n",
    "                    simSums.setdefault(item, 0)\n",
    "                    simSums[item] += sim\n",
    "                    \n",
    "    # Create the normalized list\n",
    "    rankings = [(total / simSums[item], item) for (item, total) in totals.items()]\n",
    "    if rankings:\n",
    "        # Return the sorted list\n",
    "        rankings.sort()\n",
    "        rankings.reverse()\n",
    "        return rankings[0:3]\n",
    "    else:\n",
    "        print(\"No such recommendation: Lack of data\")\n",
    "\n",
    "user= random.choice(list(set(user_post_dict.keys())))\n",
    "print (f\"The first 3 posts recommended for {user} are:\")\n",
    "post_recommender(user, similarity=sim_distance)"
   ]
  },
  {
   "cell_type": "code",
   "execution_count": null,
   "metadata": {},
   "outputs": [],
   "source": []
  }
 ],
 "metadata": {
  "kernelspec": {
   "display_name": "Python 3",
   "language": "python",
   "name": "python3"
  },
  "language_info": {
   "codemirror_mode": {
    "name": "ipython",
    "version": 3
   },
   "file_extension": ".py",
   "mimetype": "text/x-python",
   "name": "python",
   "nbconvert_exporter": "python",
   "pygments_lexer": "ipython3",
   "version": "3.8.3"
  }
 },
 "nbformat": 4,
 "nbformat_minor": 1
}
